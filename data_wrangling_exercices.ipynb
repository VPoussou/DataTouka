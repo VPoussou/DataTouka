{
  "cells": [
    {
      "cell_type": "markdown",
      "id": "J_sQg7gt-kVg",
      "metadata": {
        "id": "J_sQg7gt-kVg"
      },
      "source": [
        "#Data manipulation"
      ]
    },
    {
      "cell_type": "markdown",
      "id": "_TQYWmV0-mrV",
      "metadata": {
        "id": "_TQYWmV0-mrV"
      },
      "source": [
        "## EDA Tiller System"
      ]
    },
    {
      "cell_type": "markdown",
      "id": "fKj7hZMOEzm5",
      "metadata": {
        "id": "fKj7hZMOEzm5"
      },
      "source": [
        "### Import des librairies et des data"
      ]
    },
    {
      "cell_type": "markdown",
      "id": "xo2JxXcr-ve1",
      "metadata": {
        "id": "xo2JxXcr-ve1"
      },
      "source": [
        "a) Ajoutez la librairie `ypandas_profiling` à votre environnement et importez les librairies suivantes :"
      ]
    },
    {
      "cell_type": "code",
      "execution_count": 1,
      "id": "OlMvy5Ks-woI",
      "metadata": {
        "id": "OlMvy5Ks-woI"
      },
      "outputs": [
        {
          "name": "stderr",
          "output_type": "stream",
          "text": [
            "c:\\Users\\pouss\\Documents\\GitHub\\DataTouka\\explo_env\\lib\\site-packages\\tqdm\\auto.py:21: TqdmWarning: IProgress not found. Please update jupyter and ipywidgets. See https://ipywidgets.readthedocs.io/en/stable/user_install.html\n",
            "  from .autonotebook import tqdm as notebook_tqdm\n"
          ]
        }
      ],
      "source": [
        "from collections import Counter\n",
        "import json\n",
        "\n",
        "import pandas as pd\n",
        "from ydata_profiling import ProfileReport"
      ]
    },
    {
      "cell_type": "markdown",
      "id": "94I936yE-2xu",
      "metadata": {
        "id": "94I936yE-2xu"
      },
      "source": [
        "b) Normalement vous avez déjà téléchargé les données [order_data](https://drive.google.com/file/d/1X5uXVFrl7SuMUKe7CJaiCmGEOhokorh2/view?usp=sharing) et [order_line](https://drive.google.com/file/d/1G7Jbq_m-tJrHRhL-44j8XFOVs_zPil_9/view?usp=sharing)."
      ]
    },
    {
      "cell_type": "markdown",
      "id": "Jllrqdoh-6DW",
      "metadata": {
        "id": "Jllrqdoh-6DW"
      },
      "source": [
        "c) Importez ces données dans 2 dataframes order_data et order_line"
      ]
    },
    {
      "cell_type": "code",
      "execution_count": 2,
      "id": "TNxhRi-Y-ztH",
      "metadata": {
        "id": "TNxhRi-Y-ztH"
      },
      "outputs": [
        {
          "name": "stderr",
          "output_type": "stream",
          "text": [
            "C:\\Users\\pouss\\AppData\\Local\\Temp\\ipykernel_13416\\3960782183.py:1: DtypeWarning: Columns (12) have mixed types. Specify dtype option on import or set low_memory=False.\n",
            "  order_data = pd.read_csv('order_data.csv')\n"
          ]
        }
      ],
      "source": [
        "order_data = pd.read_csv('order_data.csv')\n",
        "order_line = pd.read_csv('order_line.csv')"
      ]
    },
    {
      "cell_type": "markdown",
      "id": "a13a8e9b",
      "metadata": {
        "id": "a13a8e9b"
      },
      "source": [
        "### Valeurs manquantes\n"
      ]
    },
    {
      "cell_type": "markdown",
      "id": "952qS7pKGbjJ",
      "metadata": {
        "id": "952qS7pKGbjJ"
      },
      "source": [
        "d) En utilisant la fonction info, regarder le nombre de valeurs manquantes par colonne de votre dataframe order_data"
      ]
    },
    {
      "cell_type": "code",
      "execution_count": 7,
      "id": "d23a9dd8",
      "metadata": {
        "ExecuteTime": {
          "end_time": "2021-12-07T20:50:43.001680Z",
          "start_time": "2021-12-07T20:50:42.945528Z"
        },
        "id": "d23a9dd8"
      },
      "outputs": [
        {
          "name": "stdout",
          "output_type": "stream",
          "text": [
            "<class 'pandas.core.frame.DataFrame'>\n",
            "RangeIndex: 117304 entries, 0 to 117303\n",
            "Data columns (total 17 columns):\n",
            " #   Column          Non-Null Count   Dtype  \n",
            "---  ------          --------------   -----  \n",
            " 0   id_order        117304 non-null  int64  \n",
            " 1   id_store        117304 non-null  int64  \n",
            " 2   id_table        21917 non-null   float64\n",
            " 3   id_waiter       57377 non-null   float64\n",
            " 4   id_customer     1867 non-null    float64\n",
            " 5   id_external     117232 non-null  object \n",
            " 6   id_device       108906 non-null  float64\n",
            " 7   date_opened     117304 non-null  object \n",
            " 8   date_closed     117304 non-null  object \n",
            " 9   dim_name        56553 non-null   object \n",
            " 10  dim_status      117304 non-null  object \n",
            " 11  dim_type        117304 non-null  int64  \n",
            " 12  dim_comment     94 non-null      object \n",
            " 13  dim_source      117303 non-null  object \n",
            " 14  m_nb_customer   117304 non-null  int64  \n",
            " 15  m_cached_payed  117304 non-null  float64\n",
            " 16  m_cached_price  117304 non-null  float64\n",
            "dtypes: float64(6), int64(4), object(7)\n",
            "memory usage: 15.2+ MB\n"
          ]
        },
        {
          "data": {
            "text/html": [
              "<div>\n",
              "<style scoped>\n",
              "    .dataframe tbody tr th:only-of-type {\n",
              "        vertical-align: middle;\n",
              "    }\n",
              "\n",
              "    .dataframe tbody tr th {\n",
              "        vertical-align: top;\n",
              "    }\n",
              "\n",
              "    .dataframe thead th {\n",
              "        text-align: right;\n",
              "    }\n",
              "</style>\n",
              "<table border=\"1\" class=\"dataframe\">\n",
              "  <thead>\n",
              "    <tr style=\"text-align: right;\">\n",
              "      <th></th>\n",
              "      <th>id_order</th>\n",
              "      <th>id_store</th>\n",
              "      <th>id_table</th>\n",
              "      <th>id_waiter</th>\n",
              "      <th>id_customer</th>\n",
              "      <th>id_external</th>\n",
              "      <th>id_device</th>\n",
              "      <th>date_opened</th>\n",
              "      <th>date_closed</th>\n",
              "      <th>dim_name</th>\n",
              "      <th>dim_status</th>\n",
              "      <th>dim_type</th>\n",
              "      <th>dim_comment</th>\n",
              "      <th>dim_source</th>\n",
              "      <th>m_nb_customer</th>\n",
              "      <th>m_cached_payed</th>\n",
              "      <th>m_cached_price</th>\n",
              "    </tr>\n",
              "  </thead>\n",
              "  <tbody>\n",
              "    <tr>\n",
              "      <th>0</th>\n",
              "      <td>55538867</td>\n",
              "      <td>8052</td>\n",
              "      <td>NaN</td>\n",
              "      <td>NaN</td>\n",
              "      <td>NaN</td>\n",
              "      <td>0425716B-EFF4-41CA-AEA1-839104F36833</td>\n",
              "      <td>15327.0</td>\n",
              "      <td>2019-01-12 13:02:17 UTC</td>\n",
              "      <td>2019-01-12 19:58:38 UTC</td>\n",
              "      <td>vincent</td>\n",
              "      <td>CLOSED</td>\n",
              "      <td>1</td>\n",
              "      <td>NaN</td>\n",
              "      <td>Tiller iPAD</td>\n",
              "      <td>1</td>\n",
              "      <td>45.5</td>\n",
              "      <td>45.5</td>\n",
              "    </tr>\n",
              "    <tr>\n",
              "      <th>1</th>\n",
              "      <td>56035309</td>\n",
              "      <td>8052</td>\n",
              "      <td>NaN</td>\n",
              "      <td>NaN</td>\n",
              "      <td>NaN</td>\n",
              "      <td>75E41FE2-64FF-41D3-954C-A7DE4AA887EF</td>\n",
              "      <td>15327.0</td>\n",
              "      <td>2019-01-16 19:39:09 UTC</td>\n",
              "      <td>2019-01-16 22:10:50 UTC</td>\n",
              "      <td>frere et soeur avec pierre</td>\n",
              "      <td>CLOSED</td>\n",
              "      <td>1</td>\n",
              "      <td>NaN</td>\n",
              "      <td>Tiller iPAD</td>\n",
              "      <td>2</td>\n",
              "      <td>49.8</td>\n",
              "      <td>49.8</td>\n",
              "    </tr>\n",
              "    <tr>\n",
              "      <th>2</th>\n",
              "      <td>55550051</td>\n",
              "      <td>8052</td>\n",
              "      <td>NaN</td>\n",
              "      <td>NaN</td>\n",
              "      <td>NaN</td>\n",
              "      <td>F6051A05-C9AC-4033-BF72-BB5149B8F439</td>\n",
              "      <td>15327.0</td>\n",
              "      <td>2019-01-12 14:18:46 UTC</td>\n",
              "      <td>2019-01-12 19:50:32 UTC</td>\n",
              "      <td>rachel</td>\n",
              "      <td>CLOSED</td>\n",
              "      <td>1</td>\n",
              "      <td>NaN</td>\n",
              "      <td>Tiller iPAD</td>\n",
              "      <td>1</td>\n",
              "      <td>27.4</td>\n",
              "      <td>27.4</td>\n",
              "    </tr>\n",
              "    <tr>\n",
              "      <th>3</th>\n",
              "      <td>57000119</td>\n",
              "      <td>8052</td>\n",
              "      <td>NaN</td>\n",
              "      <td>16199.0</td>\n",
              "      <td>NaN</td>\n",
              "      <td>B8BEEC66-1C10-48A0-B4D5-035CB5EEFE62</td>\n",
              "      <td>15327.0</td>\n",
              "      <td>2019-01-24 17:49:12 UTC</td>\n",
              "      <td>2019-01-24 21:58:59 UTC</td>\n",
              "      <td>Groupe PEL</td>\n",
              "      <td>CLOSED</td>\n",
              "      <td>1</td>\n",
              "      <td>NaN</td>\n",
              "      <td>tiller-order</td>\n",
              "      <td>3</td>\n",
              "      <td>60.0</td>\n",
              "      <td>60.0</td>\n",
              "    </tr>\n",
              "    <tr>\n",
              "      <th>4</th>\n",
              "      <td>55558817</td>\n",
              "      <td>8052</td>\n",
              "      <td>NaN</td>\n",
              "      <td>NaN</td>\n",
              "      <td>NaN</td>\n",
              "      <td>17F0533C-2FF1-4FC5-A50D-12704C7B7A4B</td>\n",
              "      <td>15327.0</td>\n",
              "      <td>2019-01-12 15:25:06 UTC</td>\n",
              "      <td>2019-01-12 19:21:03 UTC</td>\n",
              "      <td>remi et date</td>\n",
              "      <td>CLOSED</td>\n",
              "      <td>1</td>\n",
              "      <td>NaN</td>\n",
              "      <td>Tiller iPAD</td>\n",
              "      <td>2</td>\n",
              "      <td>39.9</td>\n",
              "      <td>39.9</td>\n",
              "    </tr>\n",
              "  </tbody>\n",
              "</table>\n",
              "</div>"
            ],
            "text/plain": [
              "   id_order  id_store  id_table  id_waiter  id_customer  \\\n",
              "0  55538867      8052       NaN        NaN          NaN   \n",
              "1  56035309      8052       NaN        NaN          NaN   \n",
              "2  55550051      8052       NaN        NaN          NaN   \n",
              "3  57000119      8052       NaN    16199.0          NaN   \n",
              "4  55558817      8052       NaN        NaN          NaN   \n",
              "\n",
              "                            id_external  id_device              date_opened  \\\n",
              "0  0425716B-EFF4-41CA-AEA1-839104F36833    15327.0  2019-01-12 13:02:17 UTC   \n",
              "1  75E41FE2-64FF-41D3-954C-A7DE4AA887EF    15327.0  2019-01-16 19:39:09 UTC   \n",
              "2  F6051A05-C9AC-4033-BF72-BB5149B8F439    15327.0  2019-01-12 14:18:46 UTC   \n",
              "3  B8BEEC66-1C10-48A0-B4D5-035CB5EEFE62    15327.0  2019-01-24 17:49:12 UTC   \n",
              "4  17F0533C-2FF1-4FC5-A50D-12704C7B7A4B    15327.0  2019-01-12 15:25:06 UTC   \n",
              "\n",
              "               date_closed                    dim_name dim_status  dim_type  \\\n",
              "0  2019-01-12 19:58:38 UTC                     vincent     CLOSED         1   \n",
              "1  2019-01-16 22:10:50 UTC  frere et soeur avec pierre     CLOSED         1   \n",
              "2  2019-01-12 19:50:32 UTC                      rachel     CLOSED         1   \n",
              "3  2019-01-24 21:58:59 UTC                  Groupe PEL     CLOSED         1   \n",
              "4  2019-01-12 19:21:03 UTC                remi et date     CLOSED         1   \n",
              "\n",
              "  dim_comment    dim_source  m_nb_customer  m_cached_payed  m_cached_price  \n",
              "0         NaN   Tiller iPAD              1            45.5            45.5  \n",
              "1         NaN   Tiller iPAD              2            49.8            49.8  \n",
              "2         NaN   Tiller iPAD              1            27.4            27.4  \n",
              "3         NaN  tiller-order              3            60.0            60.0  \n",
              "4         NaN   Tiller iPAD              2            39.9            39.9  "
            ]
          },
          "execution_count": 7,
          "metadata": {},
          "output_type": "execute_result"
        }
      ],
      "source": [
        "order_data.info()\n",
        "order_data.head()"
      ]
    },
    {
      "cell_type": "markdown",
      "id": "akYM2W9BHRUu",
      "metadata": {
        "id": "akYM2W9BHRUu"
      },
      "source": [
        "e) En utilisant cette fois-ci la fonction isnull(), calculez le pourcentage de lignes nulles par colonne de votre datafrale order_data"
      ]
    },
    {
      "cell_type": "code",
      "execution_count": 13,
      "id": "4S_ONFsYHQ6t",
      "metadata": {
        "id": "4S_ONFsYHQ6t"
      },
      "outputs": [
        {
          "name": "stdout",
          "output_type": "stream",
          "text": [
            "id_order  id_store  id_table  id_waiter  id_customer  id_external  id_device  date_opened  date_closed  dim_name  dim_status  dim_type  dim_comment  dim_source  m_nb_customer  m_cached_payed  m_cached_price\n",
            "False     False     True      True       True         False        False      False        False        True      False       False     True         False       False          False           False             47871\n",
            "                              False      True         False        False      False        False        False     False       False     True         False       False          False           False             39686\n",
            "                    False     True       True         False        False      False        False        True      False       False     True         False       False          False           False              9203\n",
            "                              False      True         False        False      False        False        False     False       False     True         False       False          False           False              5771\n",
            "                    True      False      True         False        True       False        False        False     False       False     True         False       False          False           False              4984\n",
            "                    False     False      True         False        False      False        False        True      False       False     True         False       False          False           False              3517\n",
            "                                                                   True       False        False        False     False       False     True         False       False          False           False              1885\n",
            "                              True       True         False        False      False        False        False     False       False     True         False       False          False           False              1529\n",
            "                    True      False      False        False        True       False        False        False     False       False     True         False       False          False           False               974\n",
            "                              True       True         False        False      False        False        False     False       False     True         False       False          False           False               765\n",
            "                              False      False        False        False      False        False        False     False       False     True         False       False          False           False               531\n",
            "                              True       False        False        True       False        False        False     False       False     True         False       False          False           False               254\n",
            "                                         True         False        True       False        False        True      False       False     True         False       False          False           False               127\n",
            "                                         False        False        True       False        False        False     False       False     False        False       False          False           False                94\n",
            "                                         True         True         True       False        False        False     False       False     True         False       False          False           False                71\n",
            "                              False      True         False        False      False        False        True      False       False     True         False       False          False           False                21\n",
            "                              True       False        False        False      False        False        True      False       False     True         False       False          False           False                 6\n",
            "                    False     False      True         False        True       False        False        True      False       False     True         False       False          False           False                 4\n",
            "                              True       False        False        False      False        False        False     False       False     True         False       False          False           False                 3\n",
            "                    True      True       True         False        True       False        False        False     False       False     True         False       False          False           False                 2\n",
            "                    False     False      False        False        False      False        False        False     False       False     True         False       False          False           False                 2\n",
            "                                                                   True       False        False        False     False       False     True         False       False          False           False                 2\n",
            "                              True       False        False        False      False        False        True      False       False     True         False       False          False           False                 1\n",
            "                    True      True       True         True         True       False        False        True      False       False     True         True        False          False           False                 1\n",
            "Name: count, dtype: int64\n"
          ]
        }
      ],
      "source": [
        "nul_df = order_data.isnull()\n",
        "counts_nul = nul_df.value_counts()\n",
        "print(counts_nul)"
      ]
    },
    {
      "cell_type": "markdown",
      "id": "5oPoKoYuH0so",
      "metadata": {
        "id": "5oPoKoYuH0so"
      },
      "source": [
        "f) Comment pouvez-vous expliquer qu'il y ait autant d'id_customer à null ?"
      ]
    },
    {
      "cell_type": "markdown",
      "id": "-0vCMK91MIpr",
      "metadata": {
        "id": "-0vCMK91MIpr"
      },
      "source": [
        "g) Créez un sous-dataframe qui ne contient que les lignes id_customer non nulles ? Vous pouvez utiliser l'opérateur `~`"
      ]
    },
    {
      "cell_type": "code",
      "execution_count": null,
      "id": "g2DKzlwTMJU0",
      "metadata": {
        "id": "g2DKzlwTMJU0"
      },
      "outputs": [],
      "source": []
    },
    {
      "cell_type": "markdown",
      "id": "Nwjty44DEqYH",
      "metadata": {
        "id": "Nwjty44DEqYH"
      },
      "source": [
        "### Statistiques descriptives"
      ]
    },
    {
      "cell_type": "markdown",
      "id": "f312094b",
      "metadata": {
        "id": "f312094b"
      },
      "source": [
        "h) Quel est le prix moyen d'une commande ? médian ?  minimum ? maximum ?"
      ]
    },
    {
      "cell_type": "code",
      "execution_count": null,
      "id": "afc205cb",
      "metadata": {
        "ExecuteTime": {
          "end_time": "2021-12-07T20:50:26.778009Z",
          "start_time": "2021-12-07T20:50:26.771504Z"
        },
        "id": "afc205cb"
      },
      "outputs": [],
      "source": []
    },
    {
      "cell_type": "markdown",
      "id": "K6etW2MsLqxh",
      "metadata": {
        "id": "K6etW2MsLqxh"
      },
      "source": [
        "i) Utiliser la fonction describe pour avoir plus de statistiques descriptives"
      ]
    },
    {
      "cell_type": "code",
      "execution_count": null,
      "id": "DCADm6V4Fi5n",
      "metadata": {
        "id": "DCADm6V4Fi5n"
      },
      "outputs": [],
      "source": []
    },
    {
      "cell_type": "markdown",
      "id": "0a54fe46",
      "metadata": {
        "id": "0a54fe46"
      },
      "source": [
        "La colonne dim_comment"
      ]
    },
    {
      "cell_type": "markdown",
      "id": "Z-nYP4LdNos6",
      "metadata": {
        "id": "Z-nYP4LdNos6"
      },
      "source": [
        "j) Quel est le mode de la colonne dim_name ?"
      ]
    },
    {
      "cell_type": "code",
      "execution_count": null,
      "id": "f19fd17a",
      "metadata": {
        "id": "f19fd17a"
      },
      "outputs": [],
      "source": []
    },
    {
      "cell_type": "markdown",
      "id": "GlcUTfIg7ze8",
      "metadata": {
        "id": "GlcUTfIg7ze8"
      },
      "source": [
        "k) [Plus difficile] Dans quelle boutique a eu lieu la commande avec le plus de produits commandés ? Combien de produits au total ?"
      ]
    },
    {
      "cell_type": "code",
      "execution_count": null,
      "id": "haJfylOB8BdE",
      "metadata": {
        "id": "haJfylOB8BdE"
      },
      "outputs": [],
      "source": []
    },
    {
      "cell_type": "markdown",
      "id": "ifUJqTaV7NvC",
      "metadata": {
        "id": "ifUJqTaV7NvC"
      },
      "source": [
        "### Analyses temporelles"
      ]
    },
    {
      "cell_type": "markdown",
      "id": "Ihq3BN9XAM9Q",
      "metadata": {
        "id": "Ihq3BN9XAM9Q"
      },
      "source": [
        "l) Convertissez les colonnes `date_opened` et `date_closed` en format datetime\n"
      ]
    },
    {
      "cell_type": "code",
      "execution_count": null,
      "id": "nqDqHVG2AMle",
      "metadata": {
        "id": "nqDqHVG2AMle"
      },
      "outputs": [],
      "source": []
    },
    {
      "cell_type": "markdown",
      "id": "GOChiCZvC833",
      "metadata": {
        "id": "GOChiCZvC833"
      },
      "source": [
        "m) En utilisant la fonction set_index, mettez en index du dataframe la colonne date_opened (déjà en format datetime)"
      ]
    },
    {
      "cell_type": "code",
      "execution_count": null,
      "id": "iT0MNO24B0bE",
      "metadata": {
        "id": "iT0MNO24B0bE"
      },
      "outputs": [],
      "source": []
    },
    {
      "cell_type": "markdown",
      "id": "em1IaYWuB5Hr",
      "metadata": {
        "id": "em1IaYWuB5Hr"
      },
      "source": [
        "n) A partir de là toutes les fonctionnalités de date sont à votre disposition !!\n",
        "\n",
        "En utilisant la fonction resample calculez la somme perçue de tous les restaurateurs par semaine."
      ]
    },
    {
      "cell_type": "code",
      "execution_count": null,
      "id": "kr7nu1vHCuMB",
      "metadata": {
        "id": "kr7nu1vHCuMB"
      },
      "outputs": [],
      "source": []
    },
    {
      "cell_type": "markdown",
      "id": "pUiBrIL7G4mv",
      "metadata": {
        "id": "pUiBrIL7G4mv"
      },
      "source": [
        "o) On veut plutôt l'avoir par semaine et par restaurant, modifiez le code précédent.\n",
        "\n",
        "Note : resample vient après le groupby ..."
      ]
    },
    {
      "cell_type": "code",
      "execution_count": null,
      "id": "UBQg42vrG4D1",
      "metadata": {
        "id": "UBQg42vrG4D1"
      },
      "outputs": [],
      "source": []
    },
    {
      "cell_type": "markdown",
      "id": "HLPpD1YeHrs7",
      "metadata": {
        "id": "HLPpD1YeHrs7"
      },
      "source": [
        "p) Finalement on le souhaite par quarter, modifiez le code précédent pour obtenir le résultat. Vous pourrez stocker le résultat dans un dataframe quarter_results.\n",
        "\n",
        "Vous pouvez consulter [cette page](https://pandas.pydata.org/pandas-docs/stable/user_guide/timeseries.html#dateoffset-objects) pour voir toutes les options possibles de la fonction resample.\n",
        "\n",
        "Pratique non ?"
      ]
    },
    {
      "cell_type": "code",
      "execution_count": null,
      "id": "iDSoG1OUB8od",
      "metadata": {
        "id": "iDSoG1OUB8od"
      },
      "outputs": [],
      "source": []
    },
    {
      "cell_type": "markdown",
      "id": "PKth-WEfBxPx",
      "metadata": {
        "id": "PKth-WEfBxPx"
      },
      "source": [
        "q) Etudiez la fonction [pct_change](https://pandas.pydata.org/docs/reference/api/pandas.DataFrame.pct_change.html) de pandas et calculez l'évolution du CA par restaurant par quarter dans une nouvelle colonne."
      ]
    },
    {
      "cell_type": "code",
      "execution_count": null,
      "id": "Ko4gRhFGK4mp",
      "metadata": {
        "id": "Ko4gRhFGK4mp"
      },
      "outputs": [],
      "source": []
    },
    {
      "cell_type": "markdown",
      "id": "Tsj2FUbzLXNv",
      "metadata": {
        "id": "Tsj2FUbzLXNv"
      },
      "source": [
        "r) Quel est le restaurant avec l'évolution par quarter le plus important sur ces donnnées ? Pour quel quarter ?"
      ]
    },
    {
      "cell_type": "code",
      "execution_count": null,
      "id": "a_lK6oCJLlvF",
      "metadata": {
        "id": "a_lK6oCJLlvF"
      },
      "outputs": [],
      "source": []
    },
    {
      "cell_type": "markdown",
      "id": "PfckYT0WNOjV",
      "metadata": {
        "id": "PfckYT0WNOjV"
      },
      "source": [
        "### Tableaux croisés dynamiques"
      ]
    },
    {
      "cell_type": "markdown",
      "id": "V6nB7Rr7NxSJ",
      "metadata": {
        "id": "V6nB7Rr7NxSJ"
      },
      "source": [
        "s) Sur les données d'order, regardez toutes les modalités de dim_source par occurence"
      ]
    },
    {
      "cell_type": "code",
      "execution_count": null,
      "id": "eF5DSQkXNoGU",
      "metadata": {
        "id": "eF5DSQkXNoGU"
      },
      "outputs": [],
      "source": []
    },
    {
      "cell_type": "markdown",
      "id": "4Kxfl1WHN5oW",
      "metadata": {
        "id": "4Kxfl1WHN5oW"
      },
      "source": [
        "t) Remplacer les autres valeurs que \"Tiller iPAD\", \"tiller-order\" et \"LAFOURCHETTE\" par \"Other\". Utilisez la fonction loc avec un mask utilisant la fonction .isin."
      ]
    },
    {
      "cell_type": "code",
      "execution_count": null,
      "id": "8e4BFoPxOjs8",
      "metadata": {
        "id": "8e4BFoPxOjs8"
      },
      "outputs": [],
      "source": []
    },
    {
      "cell_type": "markdown",
      "id": "MHIbrb5pOR10",
      "metadata": {
        "id": "MHIbrb5pOR10"
      },
      "source": [
        "u) En utilisant la fonction pivot_table, calculez le CA généré par restaurant en lignes et par dim_source en colonne. Vous pourrez utiliser la fonction fillna pour remplacer les valeurs nulles par 0.\n",
        "\n",
        "On utilisera un reset_index également pour remonter les id_store comme colonnes"
      ]
    },
    {
      "cell_type": "code",
      "execution_count": null,
      "id": "RwNyqPtENN7H",
      "metadata": {
        "id": "RwNyqPtENN7H"
      },
      "outputs": [],
      "source": []
    },
    {
      "cell_type": "markdown",
      "id": "txAOR8pFNNbj",
      "metadata": {
        "id": "txAOR8pFNNbj"
      },
      "source": [
        "v) [Bonus] Reprenez le dataframe précédent et faites redescendre toutes les dim_source dans une nouvelle colonne avec la fonction melt"
      ]
    },
    {
      "cell_type": "code",
      "execution_count": null,
      "id": "oxXekhg8Pwqk",
      "metadata": {
        "id": "oxXekhg8Pwqk"
      },
      "outputs": [],
      "source": []
    },
    {
      "cell_type": "markdown",
      "id": "d66b3202",
      "metadata": {
        "id": "d66b3202"
      },
      "source": [
        "## Pandas profiling"
      ]
    },
    {
      "cell_type": "markdown",
      "id": "NpiA5DrMSFFy",
      "metadata": {
        "id": "NpiA5DrMSFFy"
      },
      "source": [
        "Il existe des librairies en Python pour faciliter encore plus l'exploration de données.\n",
        "\n",
        "`pandas-profiling` en est une ! Regardez cet article qui en détaille ses possibilités."
      ]
    },
    {
      "cell_type": "markdown",
      "id": "4k-CtitSU1Wp",
      "metadata": {
        "id": "4k-CtitSU1Wp"
      },
      "source": [
        "w) Téléchargez la librairie `pandas-profiling` dans votre environnement et générez un rapport des données de commandes order_data."
      ]
    },
    {
      "cell_type": "code",
      "execution_count": null,
      "id": "28edc23e",
      "metadata": {
        "id": "28edc23e",
        "scrolled": true
      },
      "outputs": [],
      "source": []
    },
    {
      "cell_type": "markdown",
      "id": "6c8f0420",
      "metadata": {
        "id": "6c8f0420"
      },
      "source": [
        "x) A partir de ce fichier généré : répondez aux questions suivantes :\n",
        "- Quel est le pourcentage de valeurs manquantes ?\n",
        "- Combien il y a-t'il de variables numériques ? catégorielles ? Est-ce que ces chiffres vous paraissent cohérents ? Il y a-t'il des points d'attentions à soulever ?\n",
        "- Quel est le pourcentage de données ayant comme valeur \"tiller-order\" dans la colonne \"dim_source\" ?\n",
        "- À combien est le cofficient de skewness pour la variable  m_nb_customer ?\n"
      ]
    },
    {
      "cell_type": "markdown",
      "id": "f9182049",
      "metadata": {
        "id": "f9182049"
      },
      "source": [
        "y)  Grâce à la méthode to_json du report, stockez ce json dans un dictionnaire Python en exécutant le code ci-dessous"
      ]
    },
    {
      "cell_type": "code",
      "execution_count": null,
      "id": "d947a34a",
      "metadata": {
        "id": "d947a34a"
      },
      "outputs": [],
      "source": [
        "profile_json = json.loads(profile_report.to_json())"
      ]
    },
    {
      "cell_type": "markdown",
      "id": "L0A3cn-2YDa_",
      "metadata": {
        "id": "L0A3cn-2YDa_"
      },
      "source": [
        "z) Déterminez quelle est la variable ayant le coefficient de kurtosis le plus élevé"
      ]
    },
    {
      "cell_type": "code",
      "execution_count": null,
      "id": "7f9f5d0e",
      "metadata": {
        "id": "7f9f5d0e"
      },
      "outputs": [],
      "source": []
    },
    {
      "cell_type": "code",
      "execution_count": null,
      "id": "_Ta3zd6Hh5fV",
      "metadata": {
        "id": "_Ta3zd6Hh5fV"
      },
      "outputs": [],
      "source": []
    },
    {
      "cell_type": "markdown",
      "id": "gQwp90LeiCja",
      "metadata": {
        "id": "gQwp90LeiCja"
      },
      "source": [
        "# Text Processing"
      ]
    },
    {
      "cell_type": "markdown",
      "id": "nhvyHtT8iFIy",
      "metadata": {
        "id": "nhvyHtT8iFIy"
      },
      "source": [
        "a_bis) Le champ `id_external` suit dans la quasi totalité des cas le pattern suivant X-X-X-X-X, où X correspond a une chaîne de caractères d'une certaine longueur et composée de lettres ainsi que de chiffres.\n",
        "Déterminez combien de lignes dans ce dataframe ne suivent pas ce pattern ?"
      ]
    },
    {
      "cell_type": "code",
      "execution_count": null,
      "id": "UaGLkdn1h6BK",
      "metadata": {
        "id": "UaGLkdn1h6BK"
      },
      "outputs": [],
      "source": []
    },
    {
      "cell_type": "markdown",
      "id": "XLlh-nF6iLdx",
      "metadata": {
        "id": "XLlh-nF6iLdx"
      },
      "source": [
        "b_bis) [Difficile] L'équipe sécurité vous annonce qu'il y a une faille informatique dans le système d'enregistrement des commandes et que certaines commandes sont corrompues.\n",
        "Voici les caractèristiques permettant de déterminer si une commande est corrompue :\n",
        "- Le champ a évalué est le champ `external id`\n",
        "- Ce champ suit le pattern X-X-X-X-X, où X correspond a une chaîne de caractères d'une certaine longueur\n",
        "- X contient strictement plus de chiffres que de lettres\n",
        "\n",
        "Filtrez votre jeu de données afin de ne garder uniquement les commandes corrompues. Combien en trouvez-vous ?"
      ]
    },
    {
      "cell_type": "code",
      "execution_count": null,
      "id": "Dut620D0iIh4",
      "metadata": {
        "id": "Dut620D0iIh4"
      },
      "outputs": [],
      "source": []
    }
  ],
  "metadata": {
    "colab": {
      "provenance": []
    },
    "kernelspec": {
      "display_name": "explo_env",
      "language": "python",
      "name": "python3"
    },
    "language_info": {
      "codemirror_mode": {
        "name": "ipython",
        "version": 3
      },
      "file_extension": ".py",
      "mimetype": "text/x-python",
      "name": "python",
      "nbconvert_exporter": "python",
      "pygments_lexer": "ipython3",
      "version": "3.10.8"
    },
    "toc": {
      "base_numbering": 1,
      "nav_menu": {},
      "number_sections": true,
      "sideBar": true,
      "skip_h1_title": false,
      "title_cell": "Table of Contents",
      "title_sidebar": "Contents",
      "toc_cell": false,
      "toc_position": {},
      "toc_section_display": true,
      "toc_window_display": false
    },
    "varInspector": {
      "cols": {
        "lenName": 16,
        "lenType": 16,
        "lenVar": 40
      },
      "kernels_config": {
        "python": {
          "delete_cmd_postfix": "",
          "delete_cmd_prefix": "del ",
          "library": "var_list.py",
          "varRefreshCmd": "print(var_dic_list())"
        },
        "r": {
          "delete_cmd_postfix": ") ",
          "delete_cmd_prefix": "rm(",
          "library": "var_list.r",
          "varRefreshCmd": "cat(var_dic_list()) "
        }
      },
      "types_to_exclude": [
        "module",
        "function",
        "builtin_function_or_method",
        "instance",
        "_Feature"
      ],
      "window_display": false
    }
  },
  "nbformat": 4,
  "nbformat_minor": 5
}
