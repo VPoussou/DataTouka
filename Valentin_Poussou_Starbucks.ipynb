{
  "cells": [
    {
      "cell_type": "markdown",
      "metadata": {
        "id": "z6bY9qBzFUsJ"
      },
      "source": [
        "# Starbucks reviews ☕️☕️\n"
      ]
    },
    {
      "cell_type": "markdown",
      "metadata": {
        "id": "qw9x1LeKMW4R"
      },
      "source": [
        "1. Import pandas"
      ]
    },
    {
      "cell_type": "code",
      "execution_count": 1,
      "metadata": {
        "id": "SwGrZGVJFKqp"
      },
      "outputs": [],
      "source": [
        "import pandas as pd"
      ]
    },
    {
      "cell_type": "markdown",
      "metadata": {
        "id": "alTwhJohMY6f"
      },
      "source": [
        "2. Read the data from starbucks_reviews.csv"
      ]
    },
    {
      "cell_type": "code",
      "execution_count": 2,
      "metadata": {
        "colab": {
          "base_uri": "https://localhost:8080/",
          "height": 206
        },
        "executionInfo": {
          "elapsed": 96,
          "status": "ok",
          "timestamp": 1699032934877,
          "user": {
            "displayName": "Aurélie Mutschler",
            "userId": "09486760454547044843"
          },
          "user_tz": -60
        },
        "id": "cLioE2bRGMjp",
        "outputId": "17b18e3d-74af-4d4e-9153-df06b007eea5"
      },
      "outputs": [
        {
          "data": {
            "text/html": [
              "<div>\n",
              "<style scoped>\n",
              "    .dataframe tbody tr th:only-of-type {\n",
              "        vertical-align: middle;\n",
              "    }\n",
              "\n",
              "    .dataframe tbody tr th {\n",
              "        vertical-align: top;\n",
              "    }\n",
              "\n",
              "    .dataframe thead th {\n",
              "        text-align: right;\n",
              "    }\n",
              "</style>\n",
              "<table border=\"1\" class=\"dataframe\">\n",
              "  <thead>\n",
              "    <tr style=\"text-align: right;\">\n",
              "      <th></th>\n",
              "      <th>name</th>\n",
              "      <th>location</th>\n",
              "      <th>Rating</th>\n",
              "      <th>Review</th>\n",
              "      <th>date</th>\n",
              "    </tr>\n",
              "  </thead>\n",
              "  <tbody>\n",
              "    <tr>\n",
              "      <th>0</th>\n",
              "      <td>Helen</td>\n",
              "      <td>Wichita Falls, TX</td>\n",
              "      <td>5.0</td>\n",
              "      <td>Amber and LaDonna at the Starbucks on Southwes...</td>\n",
              "      <td>September 13, 2023</td>\n",
              "    </tr>\n",
              "    <tr>\n",
              "      <th>1</th>\n",
              "      <td>Courtney</td>\n",
              "      <td>Apopka, FL</td>\n",
              "      <td>5.0</td>\n",
              "      <td>** at the Starbucks by the fire station on 436...</td>\n",
              "      <td>July 16, 2023</td>\n",
              "    </tr>\n",
              "    <tr>\n",
              "      <th>2</th>\n",
              "      <td>Daynelle</td>\n",
              "      <td>Cranberry Twp, PA</td>\n",
              "      <td>5.0</td>\n",
              "      <td>I just wanted to go out of my way to recognize...</td>\n",
              "      <td>July 5, 2023</td>\n",
              "    </tr>\n",
              "    <tr>\n",
              "      <th>3</th>\n",
              "      <td>Taylor</td>\n",
              "      <td>Seattle, WA</td>\n",
              "      <td>5.0</td>\n",
              "      <td>Me and my friend were at Starbucks and my card...</td>\n",
              "      <td>May 26, 2023</td>\n",
              "    </tr>\n",
              "    <tr>\n",
              "      <th>4</th>\n",
              "      <td>Tenessa</td>\n",
              "      <td>Gresham, OR</td>\n",
              "      <td>5.0</td>\n",
              "      <td>I’m on this kick of drinking 5 cups of warm wa...</td>\n",
              "      <td>January 22, 2023</td>\n",
              "    </tr>\n",
              "  </tbody>\n",
              "</table>\n",
              "</div>"
            ],
            "text/plain": [
              "       name           location  Rating  \\\n",
              "0     Helen  Wichita Falls, TX     5.0   \n",
              "1  Courtney         Apopka, FL     5.0   \n",
              "2  Daynelle  Cranberry Twp, PA     5.0   \n",
              "3    Taylor        Seattle, WA     5.0   \n",
              "4   Tenessa        Gresham, OR     5.0   \n",
              "\n",
              "                                              Review                date  \n",
              "0  Amber and LaDonna at the Starbucks on Southwes...  September 13, 2023  \n",
              "1  ** at the Starbucks by the fire station on 436...       July 16, 2023  \n",
              "2  I just wanted to go out of my way to recognize...        July 5, 2023  \n",
              "3  Me and my friend were at Starbucks and my card...        May 26, 2023  \n",
              "4  I’m on this kick of drinking 5 cups of warm wa...    January 22, 2023  "
            ]
          },
          "execution_count": 2,
          "metadata": {},
          "output_type": "execute_result"
        }
      ],
      "source": [
        "reviews_df = pd.read_csv('./starbucks_reviews.csv')\n",
        "reviews_df.head()"
      ]
    },
    {
      "cell_type": "markdown",
      "metadata": {
        "id": "naaebZf3MgRZ"
      },
      "source": [
        "3. How many columns/lines are in the dataset?"
      ]
    },
    {
      "cell_type": "code",
      "execution_count": 3,
      "metadata": {
        "colab": {
          "base_uri": "https://localhost:8080/"
        },
        "executionInfo": {
          "elapsed": 95,
          "status": "ok",
          "timestamp": 1699032934878,
          "user": {
            "displayName": "Aurélie Mutschler",
            "userId": "09486760454547044843"
          },
          "user_tz": -60
        },
        "id": "PyfZZtIpHOTa",
        "outputId": "8ef992ec-f994-49bc-ad30-416c0cf5ac3f"
      },
      "outputs": [
        {
          "name": "stdout",
          "output_type": "stream",
          "text": [
            "The dataset has 850 rows and 5 columns.\n"
          ]
        }
      ],
      "source": [
        "num_rows, num_cols = reviews_df.shape\n",
        "print(f\"The dataset has {num_rows} rows and {num_cols} columns.\")"
      ]
    },
    {
      "cell_type": "markdown",
      "metadata": {
        "id": "RdKlAbw4MkKQ"
      },
      "source": [
        "4. Convert the column \"date\" into datetime type.\n",
        "\n",
        "💡 You'll have to specify the format with python's [strptime syntax](https://docs.python.org/3/library/datetime.html#strftime-strptime-behavior)"
      ]
    },
    {
      "cell_type": "code",
      "execution_count": 33,
      "metadata": {
        "id": "3mZcW4P2GyoA"
      },
      "outputs": [
        {
          "data": {
            "text/plain": [
              "pandas._libs.tslibs.timestamps.Timestamp"
            ]
          },
          "execution_count": 33,
          "metadata": {},
          "output_type": "execute_result"
        }
      ],
      "source": [
        "import datetime\n",
        "dt = datetime.datetime\n",
        "\n",
        "reviews_df['date'] = reviews_df['date'].apply(dt.strptime, args=('%B %d, %Y',))\n",
        "# type(reviews_df['date'][0])\n",
        "# reviews_df.head()"
      ]
    },
    {
      "cell_type": "markdown",
      "metadata": {
        "id": "piaoWs9SM1tz"
      },
      "source": [
        "5. Extract some features from the \"date\" column:\n",
        "* year\n",
        "* month\n",
        "* day of week"
      ]
    },
    {
      "cell_type": "code",
      "execution_count": 28,
      "metadata": {},
      "outputs": [
        {
          "data": {
            "text/html": [
              "<div>\n",
              "<style scoped>\n",
              "    .dataframe tbody tr th:only-of-type {\n",
              "        vertical-align: middle;\n",
              "    }\n",
              "\n",
              "    .dataframe tbody tr th {\n",
              "        vertical-align: top;\n",
              "    }\n",
              "\n",
              "    .dataframe thead th {\n",
              "        text-align: right;\n",
              "    }\n",
              "</style>\n",
              "<table border=\"1\" class=\"dataframe\">\n",
              "  <thead>\n",
              "    <tr style=\"text-align: right;\">\n",
              "      <th></th>\n",
              "      <th>name</th>\n",
              "      <th>location</th>\n",
              "      <th>Rating</th>\n",
              "      <th>Review</th>\n",
              "      <th>date</th>\n",
              "    </tr>\n",
              "  </thead>\n",
              "  <tbody>\n",
              "    <tr>\n",
              "      <th>0</th>\n",
              "      <td>Helen</td>\n",
              "      <td>Wichita Falls, TX</td>\n",
              "      <td>5.0</td>\n",
              "      <td>Amber and LaDonna at the Starbucks on Southwes...</td>\n",
              "      <td>2023-09-13</td>\n",
              "    </tr>\n",
              "    <tr>\n",
              "      <th>1</th>\n",
              "      <td>Courtney</td>\n",
              "      <td>Apopka, FL</td>\n",
              "      <td>5.0</td>\n",
              "      <td>** at the Starbucks by the fire station on 436...</td>\n",
              "      <td>2023-07-16</td>\n",
              "    </tr>\n",
              "    <tr>\n",
              "      <th>2</th>\n",
              "      <td>Daynelle</td>\n",
              "      <td>Cranberry Twp, PA</td>\n",
              "      <td>5.0</td>\n",
              "      <td>I just wanted to go out of my way to recognize...</td>\n",
              "      <td>2023-07-05</td>\n",
              "    </tr>\n",
              "    <tr>\n",
              "      <th>3</th>\n",
              "      <td>Taylor</td>\n",
              "      <td>Seattle, WA</td>\n",
              "      <td>5.0</td>\n",
              "      <td>Me and my friend were at Starbucks and my card...</td>\n",
              "      <td>2023-05-26</td>\n",
              "    </tr>\n",
              "    <tr>\n",
              "      <th>4</th>\n",
              "      <td>Tenessa</td>\n",
              "      <td>Gresham, OR</td>\n",
              "      <td>5.0</td>\n",
              "      <td>I’m on this kick of drinking 5 cups of warm wa...</td>\n",
              "      <td>2023-01-22</td>\n",
              "    </tr>\n",
              "  </tbody>\n",
              "</table>\n",
              "</div>"
            ],
            "text/plain": [
              "       name           location  Rating  \\\n",
              "0     Helen  Wichita Falls, TX     5.0   \n",
              "1  Courtney         Apopka, FL     5.0   \n",
              "2  Daynelle  Cranberry Twp, PA     5.0   \n",
              "3    Taylor        Seattle, WA     5.0   \n",
              "4   Tenessa        Gresham, OR     5.0   \n",
              "\n",
              "                                              Review       date  \n",
              "0  Amber and LaDonna at the Starbucks on Southwes... 2023-09-13  \n",
              "1  ** at the Starbucks by the fire station on 436... 2023-07-16  \n",
              "2  I just wanted to go out of my way to recognize... 2023-07-05  \n",
              "3  Me and my friend were at Starbucks and my card... 2023-05-26  \n",
              "4  I’m on this kick of drinking 5 cups of warm wa... 2023-01-22  "
            ]
          },
          "execution_count": 28,
          "metadata": {},
          "output_type": "execute_result"
        }
      ],
      "source": [
        "reviews_df.head()"
      ]
    },
    {
      "cell_type": "code",
      "execution_count": 34,
      "metadata": {
        "colab": {
          "base_uri": "https://localhost:8080/",
          "height": 206
        },
        "executionInfo": {
          "elapsed": 94,
          "status": "ok",
          "timestamp": 1699032934880,
          "user": {
            "displayName": "Aurélie Mutschler",
            "userId": "09486760454547044843"
          },
          "user_tz": -60
        },
        "id": "ivht0wedI2W4",
        "outputId": "4214dfbf-e13d-4009-8c9e-8175feee1d23"
      },
      "outputs": [
        {
          "data": {
            "text/html": [
              "<div>\n",
              "<style scoped>\n",
              "    .dataframe tbody tr th:only-of-type {\n",
              "        vertical-align: middle;\n",
              "    }\n",
              "\n",
              "    .dataframe tbody tr th {\n",
              "        vertical-align: top;\n",
              "    }\n",
              "\n",
              "    .dataframe thead th {\n",
              "        text-align: right;\n",
              "    }\n",
              "</style>\n",
              "<table border=\"1\" class=\"dataframe\">\n",
              "  <thead>\n",
              "    <tr style=\"text-align: right;\">\n",
              "      <th></th>\n",
              "      <th>name</th>\n",
              "      <th>location</th>\n",
              "      <th>Rating</th>\n",
              "      <th>Review</th>\n",
              "      <th>date</th>\n",
              "      <th>year</th>\n",
              "      <th>month</th>\n",
              "      <th>weekday</th>\n",
              "    </tr>\n",
              "  </thead>\n",
              "  <tbody>\n",
              "    <tr>\n",
              "      <th>0</th>\n",
              "      <td>Helen</td>\n",
              "      <td>Wichita Falls, TX</td>\n",
              "      <td>5.0</td>\n",
              "      <td>Amber and LaDonna at the Starbucks on Southwes...</td>\n",
              "      <td>2023-09-13</td>\n",
              "      <td>2023</td>\n",
              "      <td>9</td>\n",
              "      <td>2</td>\n",
              "    </tr>\n",
              "    <tr>\n",
              "      <th>1</th>\n",
              "      <td>Courtney</td>\n",
              "      <td>Apopka, FL</td>\n",
              "      <td>5.0</td>\n",
              "      <td>** at the Starbucks by the fire station on 436...</td>\n",
              "      <td>2023-07-16</td>\n",
              "      <td>2023</td>\n",
              "      <td>7</td>\n",
              "      <td>6</td>\n",
              "    </tr>\n",
              "    <tr>\n",
              "      <th>2</th>\n",
              "      <td>Daynelle</td>\n",
              "      <td>Cranberry Twp, PA</td>\n",
              "      <td>5.0</td>\n",
              "      <td>I just wanted to go out of my way to recognize...</td>\n",
              "      <td>2023-07-05</td>\n",
              "      <td>2023</td>\n",
              "      <td>7</td>\n",
              "      <td>2</td>\n",
              "    </tr>\n",
              "    <tr>\n",
              "      <th>3</th>\n",
              "      <td>Taylor</td>\n",
              "      <td>Seattle, WA</td>\n",
              "      <td>5.0</td>\n",
              "      <td>Me and my friend were at Starbucks and my card...</td>\n",
              "      <td>2023-05-26</td>\n",
              "      <td>2023</td>\n",
              "      <td>5</td>\n",
              "      <td>4</td>\n",
              "    </tr>\n",
              "    <tr>\n",
              "      <th>4</th>\n",
              "      <td>Tenessa</td>\n",
              "      <td>Gresham, OR</td>\n",
              "      <td>5.0</td>\n",
              "      <td>I’m on this kick of drinking 5 cups of warm wa...</td>\n",
              "      <td>2023-01-22</td>\n",
              "      <td>2023</td>\n",
              "      <td>1</td>\n",
              "      <td>6</td>\n",
              "    </tr>\n",
              "  </tbody>\n",
              "</table>\n",
              "</div>"
            ],
            "text/plain": [
              "       name           location  Rating  \\\n",
              "0     Helen  Wichita Falls, TX     5.0   \n",
              "1  Courtney         Apopka, FL     5.0   \n",
              "2  Daynelle  Cranberry Twp, PA     5.0   \n",
              "3    Taylor        Seattle, WA     5.0   \n",
              "4   Tenessa        Gresham, OR     5.0   \n",
              "\n",
              "                                              Review       date  year  month  \\\n",
              "0  Amber and LaDonna at the Starbucks on Southwes... 2023-09-13  2023      9   \n",
              "1  ** at the Starbucks by the fire station on 436... 2023-07-16  2023      7   \n",
              "2  I just wanted to go out of my way to recognize... 2023-07-05  2023      7   \n",
              "3  Me and my friend were at Starbucks and my card... 2023-05-26  2023      5   \n",
              "4  I’m on this kick of drinking 5 cups of warm wa... 2023-01-22  2023      1   \n",
              "\n",
              "   weekday  \n",
              "0        2  \n",
              "1        6  \n",
              "2        2  \n",
              "3        4  \n",
              "4        6  "
            ]
          },
          "execution_count": 34,
          "metadata": {},
          "output_type": "execute_result"
        }
      ],
      "source": [
        "reviews_df['year'] = reviews_df['date'].apply(lambda a : a.year)\n",
        "reviews_df['month'] = reviews_df['date'].apply(lambda a : a.month)\n",
        "reviews_df['weekday'] = reviews_df['date'].apply(lambda a : a.day_of_week)\n",
        "reviews_df.head()"
      ]
    },
    {
      "cell_type": "markdown",
      "metadata": {
        "id": "19TkFBtONAuX"
      },
      "source": [
        "6. Convert the \"Review\" column into lowercase"
      ]
    },
    {
      "cell_type": "code",
      "execution_count": 37,
      "metadata": {
        "colab": {
          "base_uri": "https://localhost:8080/",
          "height": 206
        },
        "executionInfo": {
          "elapsed": 93,
          "status": "ok",
          "timestamp": 1699032934880,
          "user": {
            "displayName": "Aurélie Mutschler",
            "userId": "09486760454547044843"
          },
          "user_tz": -60
        },
        "id": "i62p6XZQJpJJ",
        "outputId": "4e63dbbc-08f3-4177-aee1-635b62daa975"
      },
      "outputs": [
        {
          "data": {
            "text/html": [
              "<div>\n",
              "<style scoped>\n",
              "    .dataframe tbody tr th:only-of-type {\n",
              "        vertical-align: middle;\n",
              "    }\n",
              "\n",
              "    .dataframe tbody tr th {\n",
              "        vertical-align: top;\n",
              "    }\n",
              "\n",
              "    .dataframe thead th {\n",
              "        text-align: right;\n",
              "    }\n",
              "</style>\n",
              "<table border=\"1\" class=\"dataframe\">\n",
              "  <thead>\n",
              "    <tr style=\"text-align: right;\">\n",
              "      <th></th>\n",
              "      <th>name</th>\n",
              "      <th>location</th>\n",
              "      <th>Rating</th>\n",
              "      <th>Review</th>\n",
              "      <th>date</th>\n",
              "      <th>year</th>\n",
              "      <th>month</th>\n",
              "      <th>weekday</th>\n",
              "    </tr>\n",
              "  </thead>\n",
              "  <tbody>\n",
              "    <tr>\n",
              "      <th>0</th>\n",
              "      <td>Helen</td>\n",
              "      <td>Wichita Falls, TX</td>\n",
              "      <td>5.0</td>\n",
              "      <td>amber and ladonna at the starbucks on southwes...</td>\n",
              "      <td>2023-09-13</td>\n",
              "      <td>2023</td>\n",
              "      <td>9</td>\n",
              "      <td>2</td>\n",
              "    </tr>\n",
              "    <tr>\n",
              "      <th>1</th>\n",
              "      <td>Courtney</td>\n",
              "      <td>Apopka, FL</td>\n",
              "      <td>5.0</td>\n",
              "      <td>** at the starbucks by the fire station on 436...</td>\n",
              "      <td>2023-07-16</td>\n",
              "      <td>2023</td>\n",
              "      <td>7</td>\n",
              "      <td>6</td>\n",
              "    </tr>\n",
              "    <tr>\n",
              "      <th>2</th>\n",
              "      <td>Daynelle</td>\n",
              "      <td>Cranberry Twp, PA</td>\n",
              "      <td>5.0</td>\n",
              "      <td>i just wanted to go out of my way to recognize...</td>\n",
              "      <td>2023-07-05</td>\n",
              "      <td>2023</td>\n",
              "      <td>7</td>\n",
              "      <td>2</td>\n",
              "    </tr>\n",
              "    <tr>\n",
              "      <th>3</th>\n",
              "      <td>Taylor</td>\n",
              "      <td>Seattle, WA</td>\n",
              "      <td>5.0</td>\n",
              "      <td>me and my friend were at starbucks and my card...</td>\n",
              "      <td>2023-05-26</td>\n",
              "      <td>2023</td>\n",
              "      <td>5</td>\n",
              "      <td>4</td>\n",
              "    </tr>\n",
              "    <tr>\n",
              "      <th>4</th>\n",
              "      <td>Tenessa</td>\n",
              "      <td>Gresham, OR</td>\n",
              "      <td>5.0</td>\n",
              "      <td>i’m on this kick of drinking 5 cups of warm wa...</td>\n",
              "      <td>2023-01-22</td>\n",
              "      <td>2023</td>\n",
              "      <td>1</td>\n",
              "      <td>6</td>\n",
              "    </tr>\n",
              "  </tbody>\n",
              "</table>\n",
              "</div>"
            ],
            "text/plain": [
              "       name           location  Rating  \\\n",
              "0     Helen  Wichita Falls, TX     5.0   \n",
              "1  Courtney         Apopka, FL     5.0   \n",
              "2  Daynelle  Cranberry Twp, PA     5.0   \n",
              "3    Taylor        Seattle, WA     5.0   \n",
              "4   Tenessa        Gresham, OR     5.0   \n",
              "\n",
              "                                              Review       date  year  month  \\\n",
              "0  amber and ladonna at the starbucks on southwes... 2023-09-13  2023      9   \n",
              "1  ** at the starbucks by the fire station on 436... 2023-07-16  2023      7   \n",
              "2  i just wanted to go out of my way to recognize... 2023-07-05  2023      7   \n",
              "3  me and my friend were at starbucks and my card... 2023-05-26  2023      5   \n",
              "4  i’m on this kick of drinking 5 cups of warm wa... 2023-01-22  2023      1   \n",
              "\n",
              "   weekday  \n",
              "0        2  \n",
              "1        6  \n",
              "2        2  \n",
              "3        4  \n",
              "4        6  "
            ]
          },
          "execution_count": 37,
          "metadata": {},
          "output_type": "execute_result"
        }
      ],
      "source": [
        "reviews_df['Review'] = reviews_df['Review'].apply(lambda a : a.lower())\n",
        "reviews_df.head()"
      ]
    },
    {
      "cell_type": "markdown",
      "metadata": {
        "id": "j5FsZqEDNInB"
      },
      "source": [
        "7. Extract features from the \"Review\" column:\n",
        "* Count the occurrences of the word \"starbucks\"\n",
        "* Count the total number of words in each review"
      ]
    },
    {
      "cell_type": "code",
      "execution_count": 39,
      "metadata": {
        "colab": {
          "base_uri": "https://localhost:8080/",
          "height": 293
        },
        "executionInfo": {
          "elapsed": 91,
          "status": "ok",
          "timestamp": 1699032934880,
          "user": {
            "displayName": "Aurélie Mutschler",
            "userId": "09486760454547044843"
          },
          "user_tz": -60
        },
        "id": "GQdVqEHnJ9rL",
        "outputId": "b27bcc26-2aad-4662-9cd8-05023404e404"
      },
      "outputs": [
        {
          "data": {
            "text/html": [
              "<div>\n",
              "<style scoped>\n",
              "    .dataframe tbody tr th:only-of-type {\n",
              "        vertical-align: middle;\n",
              "    }\n",
              "\n",
              "    .dataframe tbody tr th {\n",
              "        vertical-align: top;\n",
              "    }\n",
              "\n",
              "    .dataframe thead th {\n",
              "        text-align: right;\n",
              "    }\n",
              "</style>\n",
              "<table border=\"1\" class=\"dataframe\">\n",
              "  <thead>\n",
              "    <tr style=\"text-align: right;\">\n",
              "      <th></th>\n",
              "      <th>name</th>\n",
              "      <th>location</th>\n",
              "      <th>Rating</th>\n",
              "      <th>Review</th>\n",
              "      <th>date</th>\n",
              "      <th>year</th>\n",
              "      <th>month</th>\n",
              "      <th>weekday</th>\n",
              "      <th>count_starbucks</th>\n",
              "      <th>wordcount</th>\n",
              "    </tr>\n",
              "  </thead>\n",
              "  <tbody>\n",
              "    <tr>\n",
              "      <th>0</th>\n",
              "      <td>Helen</td>\n",
              "      <td>Wichita Falls, TX</td>\n",
              "      <td>5.0</td>\n",
              "      <td>amber and ladonna at the starbucks on southwes...</td>\n",
              "      <td>2023-09-13</td>\n",
              "      <td>2023</td>\n",
              "      <td>9</td>\n",
              "      <td>2</td>\n",
              "      <td>1</td>\n",
              "      <td>331</td>\n",
              "    </tr>\n",
              "    <tr>\n",
              "      <th>1</th>\n",
              "      <td>Courtney</td>\n",
              "      <td>Apopka, FL</td>\n",
              "      <td>5.0</td>\n",
              "      <td>** at the starbucks by the fire station on 436...</td>\n",
              "      <td>2023-07-16</td>\n",
              "      <td>2023</td>\n",
              "      <td>7</td>\n",
              "      <td>6</td>\n",
              "      <td>2</td>\n",
              "      <td>555</td>\n",
              "    </tr>\n",
              "    <tr>\n",
              "      <th>2</th>\n",
              "      <td>Daynelle</td>\n",
              "      <td>Cranberry Twp, PA</td>\n",
              "      <td>5.0</td>\n",
              "      <td>i just wanted to go out of my way to recognize...</td>\n",
              "      <td>2023-07-05</td>\n",
              "      <td>2023</td>\n",
              "      <td>7</td>\n",
              "      <td>2</td>\n",
              "      <td>1</td>\n",
              "      <td>351</td>\n",
              "    </tr>\n",
              "    <tr>\n",
              "      <th>3</th>\n",
              "      <td>Taylor</td>\n",
              "      <td>Seattle, WA</td>\n",
              "      <td>5.0</td>\n",
              "      <td>me and my friend were at starbucks and my card...</td>\n",
              "      <td>2023-05-26</td>\n",
              "      <td>2023</td>\n",
              "      <td>5</td>\n",
              "      <td>4</td>\n",
              "      <td>1</td>\n",
              "      <td>441</td>\n",
              "    </tr>\n",
              "    <tr>\n",
              "      <th>4</th>\n",
              "      <td>Tenessa</td>\n",
              "      <td>Gresham, OR</td>\n",
              "      <td>5.0</td>\n",
              "      <td>i’m on this kick of drinking 5 cups of warm wa...</td>\n",
              "      <td>2023-01-22</td>\n",
              "      <td>2023</td>\n",
              "      <td>1</td>\n",
              "      <td>6</td>\n",
              "      <td>3</td>\n",
              "      <td>405</td>\n",
              "    </tr>\n",
              "  </tbody>\n",
              "</table>\n",
              "</div>"
            ],
            "text/plain": [
              "       name           location  Rating  \\\n",
              "0     Helen  Wichita Falls, TX     5.0   \n",
              "1  Courtney         Apopka, FL     5.0   \n",
              "2  Daynelle  Cranberry Twp, PA     5.0   \n",
              "3    Taylor        Seattle, WA     5.0   \n",
              "4   Tenessa        Gresham, OR     5.0   \n",
              "\n",
              "                                              Review       date  year  month  \\\n",
              "0  amber and ladonna at the starbucks on southwes... 2023-09-13  2023      9   \n",
              "1  ** at the starbucks by the fire station on 436... 2023-07-16  2023      7   \n",
              "2  i just wanted to go out of my way to recognize... 2023-07-05  2023      7   \n",
              "3  me and my friend were at starbucks and my card... 2023-05-26  2023      5   \n",
              "4  i’m on this kick of drinking 5 cups of warm wa... 2023-01-22  2023      1   \n",
              "\n",
              "   weekday  count_starbucks  wordcount  \n",
              "0        2                1        331  \n",
              "1        6                2        555  \n",
              "2        2                1        351  \n",
              "3        4                1        441  \n",
              "4        6                3        405  "
            ]
          },
          "execution_count": 39,
          "metadata": {},
          "output_type": "execute_result"
        }
      ],
      "source": [
        "reviews_df['count_starbucks'] = reviews_df['Review'].apply(lambda a : a.count('starbucks'))\n",
        "reviews_df['wordcount'] = reviews_df['Review'].apply(lambda a : len(a))\n",
        "\n",
        "reviews_df.head()"
      ]
    },
    {
      "cell_type": "markdown",
      "metadata": {
        "id": "005yrBJhNczd"
      },
      "source": [
        "8. Use pandas' `.describe()` method to get some basic statistics about the dataset and answer the questions below:\n",
        "* Are the reviews rather good or bad?\n",
        "* Are the reviews recent or old?\n",
        "* Are the reviews rather long or short?\n",
        "* Do people mention a lot the word \"starbuck\" ?"
      ]
    },
    {
      "cell_type": "code",
      "execution_count": 40,
      "metadata": {
        "colab": {
          "base_uri": "https://localhost:8080/",
          "height": 563
        },
        "executionInfo": {
          "elapsed": 89,
          "status": "ok",
          "timestamp": 1699032934880,
          "user": {
            "displayName": "Aurélie Mutschler",
            "userId": "09486760454547044843"
          },
          "user_tz": -60
        },
        "id": "phmGSQURLAGZ",
        "outputId": "00f88e6d-15e5-49d1-b947-4a083dd95cbc"
      },
      "outputs": [
        {
          "data": {
            "text/html": [
              "<div>\n",
              "<style scoped>\n",
              "    .dataframe tbody tr th:only-of-type {\n",
              "        vertical-align: middle;\n",
              "    }\n",
              "\n",
              "    .dataframe tbody tr th {\n",
              "        vertical-align: top;\n",
              "    }\n",
              "\n",
              "    .dataframe thead th {\n",
              "        text-align: right;\n",
              "    }\n",
              "</style>\n",
              "<table border=\"1\" class=\"dataframe\">\n",
              "  <thead>\n",
              "    <tr style=\"text-align: right;\">\n",
              "      <th></th>\n",
              "      <th>Rating</th>\n",
              "      <th>date</th>\n",
              "      <th>year</th>\n",
              "      <th>month</th>\n",
              "      <th>weekday</th>\n",
              "      <th>count_starbucks</th>\n",
              "      <th>wordcount</th>\n",
              "    </tr>\n",
              "  </thead>\n",
              "  <tbody>\n",
              "    <tr>\n",
              "      <th>count</th>\n",
              "      <td>705.000000</td>\n",
              "      <td>850</td>\n",
              "      <td>850.000000</td>\n",
              "      <td>850.000000</td>\n",
              "      <td>850.000000</td>\n",
              "      <td>850.000000</td>\n",
              "      <td>850.000000</td>\n",
              "    </tr>\n",
              "    <tr>\n",
              "      <th>mean</th>\n",
              "      <td>1.870922</td>\n",
              "      <td>2016-02-17 12:38:57.882352896</td>\n",
              "      <td>2015.600000</td>\n",
              "      <td>6.897647</td>\n",
              "      <td>2.955294</td>\n",
              "      <td>1.241176</td>\n",
              "      <td>471.064706</td>\n",
              "    </tr>\n",
              "    <tr>\n",
              "      <th>min</th>\n",
              "      <td>1.000000</td>\n",
              "      <td>2000-07-19 00:00:00</td>\n",
              "      <td>2000.000000</td>\n",
              "      <td>1.000000</td>\n",
              "      <td>0.000000</td>\n",
              "      <td>0.000000</td>\n",
              "      <td>14.000000</td>\n",
              "    </tr>\n",
              "    <tr>\n",
              "      <th>25%</th>\n",
              "      <td>1.000000</td>\n",
              "      <td>2012-09-26 18:00:00</td>\n",
              "      <td>2012.000000</td>\n",
              "      <td>4.000000</td>\n",
              "      <td>1.000000</td>\n",
              "      <td>0.000000</td>\n",
              "      <td>272.000000</td>\n",
              "    </tr>\n",
              "    <tr>\n",
              "      <th>50%</th>\n",
              "      <td>1.000000</td>\n",
              "      <td>2016-05-31 00:00:00</td>\n",
              "      <td>2016.000000</td>\n",
              "      <td>7.000000</td>\n",
              "      <td>3.000000</td>\n",
              "      <td>1.000000</td>\n",
              "      <td>459.500000</td>\n",
              "    </tr>\n",
              "    <tr>\n",
              "      <th>75%</th>\n",
              "      <td>2.000000</td>\n",
              "      <td>2019-01-06 06:00:00</td>\n",
              "      <td>2019.000000</td>\n",
              "      <td>10.000000</td>\n",
              "      <td>5.000000</td>\n",
              "      <td>2.000000</td>\n",
              "      <td>655.250000</td>\n",
              "    </tr>\n",
              "    <tr>\n",
              "      <th>max</th>\n",
              "      <td>5.000000</td>\n",
              "      <td>2023-09-14 00:00:00</td>\n",
              "      <td>2023.000000</td>\n",
              "      <td>12.000000</td>\n",
              "      <td>6.000000</td>\n",
              "      <td>9.000000</td>\n",
              "      <td>1161.000000</td>\n",
              "    </tr>\n",
              "    <tr>\n",
              "      <th>std</th>\n",
              "      <td>1.397672</td>\n",
              "      <td>NaN</td>\n",
              "      <td>4.258436</td>\n",
              "      <td>3.400633</td>\n",
              "      <td>1.961437</td>\n",
              "      <td>1.248584</td>\n",
              "      <td>243.541473</td>\n",
              "    </tr>\n",
              "  </tbody>\n",
              "</table>\n",
              "</div>"
            ],
            "text/plain": [
              "           Rating                           date         year       month  \\\n",
              "count  705.000000                            850   850.000000  850.000000   \n",
              "mean     1.870922  2016-02-17 12:38:57.882352896  2015.600000    6.897647   \n",
              "min      1.000000            2000-07-19 00:00:00  2000.000000    1.000000   \n",
              "25%      1.000000            2012-09-26 18:00:00  2012.000000    4.000000   \n",
              "50%      1.000000            2016-05-31 00:00:00  2016.000000    7.000000   \n",
              "75%      2.000000            2019-01-06 06:00:00  2019.000000   10.000000   \n",
              "max      5.000000            2023-09-14 00:00:00  2023.000000   12.000000   \n",
              "std      1.397672                            NaN     4.258436    3.400633   \n",
              "\n",
              "          weekday  count_starbucks    wordcount  \n",
              "count  850.000000       850.000000   850.000000  \n",
              "mean     2.955294         1.241176   471.064706  \n",
              "min      0.000000         0.000000    14.000000  \n",
              "25%      1.000000         0.000000   272.000000  \n",
              "50%      3.000000         1.000000   459.500000  \n",
              "75%      5.000000         2.000000   655.250000  \n",
              "max      6.000000         9.000000  1161.000000  \n",
              "std      1.961437         1.248584   243.541473  "
            ]
          },
          "execution_count": 40,
          "metadata": {},
          "output_type": "execute_result"
        }
      ],
      "source": [
        "reviews_df.describe()"
      ]
    },
    {
      "cell_type": "markdown",
      "metadata": {},
      "source": [
        "### Are the reviews good or bad ?\n",
        "The reviews seem to be rather bad, since the mean rating is 1.87 which is below the standard mean of 2.5 in the rating interval, and 75% of the values in the dataset are below 2\n",
        "### Are the reviews recent or old ?\n",
        "50 % Of the reviews are in the 7 years between 2012 and 2019 with only 25% for the 12 years between 2000 and 2012, and 25% for the 8 years between 2019 and 2023. This means that the vast majority of reviews are less than 11 years old, on a sample where the earliest reviews are 23 years old. I would consider that distribution not really recent, given the reviews of the last 4 years are only 25% of the dataset.\n",
        "### Are the reviews long or short ?\n",
        "Most reviews are between 273 and 655 words long, which given a minimum of 14 and the fact that \"Great coffee\" probably constitutes a valid review, tells me they are rather long.\n"
      ]
    },
    {
      "cell_type": "markdown",
      "metadata": {},
      "source": []
    }
  ],
  "metadata": {
    "colab": {
      "authorship_tag": "ABX9TyMZ4KFb7dR08qSOarWEwmRD",
      "provenance": []
    },
    "kernelspec": {
      "display_name": "Python 3",
      "name": "python3"
    },
    "language_info": {
      "codemirror_mode": {
        "name": "ipython",
        "version": 3
      },
      "file_extension": ".py",
      "mimetype": "text/x-python",
      "name": "python",
      "nbconvert_exporter": "python",
      "pygments_lexer": "ipython3",
      "version": "3.10.8"
    }
  },
  "nbformat": 4,
  "nbformat_minor": 0
}
