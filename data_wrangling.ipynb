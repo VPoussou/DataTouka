{
 "cells": [
  {
   "cell_type": "markdown",
   "source": [
    "# Recap"
   ],
   "metadata": {
    "collapsed": false
   },
   "id": "de5aaa69917f1067"
  },
  {
   "cell_type": "markdown",
   "source": [
    "Let's review what we saw and learn some new stuff about Python, will you?"
   ],
   "metadata": {
    "collapsed": false
   },
   "id": "feeb9b418b96efac"
  },
  {
   "cell_type": "markdown",
   "source": [
    "# Pandas"
   ],
   "metadata": {
    "collapsed": false
   },
   "id": "b0225449541534fd"
  },
  {
   "cell_type": "markdown",
   "source": [
    "## Import a dataset"
   ],
   "metadata": {
    "collapsed": false
   },
   "id": "3806ae2f5ad60bf9"
  },
  {
   "cell_type": "code",
   "execution_count": 38,
   "id": "initial_id",
   "metadata": {
    "collapsed": true,
    "ExecuteTime": {
     "end_time": "2024-01-24T10:28:38.541887Z",
     "start_time": "2024-01-24T10:28:38.425865Z"
    }
   },
   "outputs": [],
   "source": [
    "from pprint import pprint\n",
    "import pandas as pd\n",
    "from sklearn import datasets\n",
    "\n",
    "# importer le dataset des iris\n",
    "iris = datasets.load_iris()"
   ]
  },
  {
   "cell_type": "code",
   "outputs": [
    {
     "data": {
      "text/plain": "sklearn.utils._bunch.Bunch"
     },
     "execution_count": 39,
     "metadata": {},
     "output_type": "execute_result"
    }
   ],
   "source": [
    "# What is the type of the variable \"iris\"?\n",
    "type(iris)"
   ],
   "metadata": {
    "collapsed": false,
    "ExecuteTime": {
     "end_time": "2024-01-24T10:28:38.555818Z",
     "start_time": "2024-01-24T10:28:38.543894Z"
    }
   },
   "id": "6acdf0d00995d8db",
   "execution_count": 39
  },
  {
   "cell_type": "markdown",
   "source": [
    "If you want to know more about what a Bunch is, then read this : [sklearn Bunch](https://scikit-learn.org/stable/modules/generated/sklearn.utils.Bunch.html)"
   ],
   "metadata": {
    "collapsed": false
   },
   "id": "1959bd9b837c9fd9"
  },
  {
   "cell_type": "code",
   "outputs": [
    {
     "data": {
      "text/plain": "dict_keys(['data', 'target', 'frame', 'target_names', 'DESCR', 'feature_names', 'filename', 'data_module'])"
     },
     "execution_count": 40,
     "metadata": {},
     "output_type": "execute_result"
    }
   ],
   "source": [
    "iris.keys()"
   ],
   "metadata": {
    "collapsed": false,
    "ExecuteTime": {
     "end_time": "2024-01-24T10:28:38.559012Z",
     "start_time": "2024-01-24T10:28:38.552729Z"
    }
   },
   "id": "ec14c291ed4976c7",
   "execution_count": 40
  },
  {
   "cell_type": "code",
   "outputs": [
    {
     "data": {
      "text/plain": "array([0, 0, 0, 0, 0, 0, 0, 0, 0, 0, 0, 0, 0, 0, 0, 0, 0, 0, 0, 0, 0, 0,\n       0, 0, 0, 0, 0, 0, 0, 0, 0, 0, 0, 0, 0, 0, 0, 0, 0, 0, 0, 0, 0, 0,\n       0, 0, 0, 0, 0, 0, 1, 1, 1, 1, 1, 1, 1, 1, 1, 1, 1, 1, 1, 1, 1, 1,\n       1, 1, 1, 1, 1, 1, 1, 1, 1, 1, 1, 1, 1, 1, 1, 1, 1, 1, 1, 1, 1, 1,\n       1, 1, 1, 1, 1, 1, 1, 1, 1, 1, 1, 1, 2, 2, 2, 2, 2, 2, 2, 2, 2, 2,\n       2, 2, 2, 2, 2, 2, 2, 2, 2, 2, 2, 2, 2, 2, 2, 2, 2, 2, 2, 2, 2, 2,\n       2, 2, 2, 2, 2, 2, 2, 2, 2, 2, 2, 2, 2, 2, 2, 2, 2, 2])"
     },
     "execution_count": 41,
     "metadata": {},
     "output_type": "execute_result"
    }
   ],
   "source": [
    "iris.target"
   ],
   "metadata": {
    "collapsed": false,
    "ExecuteTime": {
     "end_time": "2024-01-24T10:28:38.578448Z",
     "start_time": "2024-01-24T10:28:38.559885Z"
    }
   },
   "id": "c0eb7fc8996754b7",
   "execution_count": 41
  },
  {
   "cell_type": "code",
   "outputs": [
    {
     "name": "stdout",
     "output_type": "stream",
     "text": [
      "('.. _iris_dataset:\\n'\n",
      " '\\n'\n",
      " 'Iris plants dataset\\n'\n",
      " '--------------------\\n'\n",
      " '\\n'\n",
      " '**Data Set Characteristics:**\\n'\n",
      " '\\n'\n",
      " '    :Number of Instances: 150 (50 in each of three classes)\\n'\n",
      " '    :Number of Attributes: 4 numeric, predictive attributes and the class\\n'\n",
      " '    :Attribute Information:\\n'\n",
      " '        - sepal length in cm\\n'\n",
      " '        - sepal width in cm\\n'\n",
      " '        - petal length in cm\\n'\n",
      " '        - petal width in cm\\n'\n",
      " '        - class:\\n'\n",
      " '                - Iris-Setosa\\n'\n",
      " '                - Iris-Versicolour\\n'\n",
      " '                - Iris-Virginica\\n'\n",
      " '                \\n'\n",
      " '    :Summary Statistics:\\n'\n",
      " '\\n'\n",
      " '    ============== ==== ==== ======= ===== ====================\\n'\n",
      " '                    Min  Max   Mean    SD   Class Correlation\\n'\n",
      " '    ============== ==== ==== ======= ===== ====================\\n'\n",
      " '    sepal length:   4.3  7.9   5.84   0.83    0.7826\\n'\n",
      " '    sepal width:    2.0  4.4   3.05   0.43   -0.4194\\n'\n",
      " '    petal length:   1.0  6.9   3.76   1.76    0.9490  (high!)\\n'\n",
      " '    petal width:    0.1  2.5   1.20   0.76    0.9565  (high!)\\n'\n",
      " '    ============== ==== ==== ======= ===== ====================\\n'\n",
      " '\\n'\n",
      " '    :Missing Attribute Values: None\\n'\n",
      " '    :Class Distribution: 33.3% for each of 3 classes.\\n'\n",
      " '    :Creator: R.A. Fisher\\n'\n",
      " '    :Donor: Michael Marshall (MARSHALL%PLU@io.arc.nasa.gov)\\n'\n",
      " '    :Date: July, 1988\\n'\n",
      " '\\n'\n",
      " 'The famous Iris database, first used by Sir R.A. Fisher. The dataset is '\n",
      " 'taken\\n'\n",
      " \"from Fisher's paper. Note that it's the same as in R, but not as in the UCI\\n\"\n",
      " 'Machine Learning Repository, which has two wrong data points.\\n'\n",
      " '\\n'\n",
      " 'This is perhaps the best known database to be found in the\\n'\n",
      " \"pattern recognition literature.  Fisher's paper is a classic in the field \"\n",
      " 'and\\n'\n",
      " 'is referenced frequently to this day.  (See Duda & Hart, for example.)  The\\n'\n",
      " 'data set contains 3 classes of 50 instances each, where each class refers to '\n",
      " 'a\\n'\n",
      " 'type of iris plant.  One class is linearly separable from the other 2; the\\n'\n",
      " 'latter are NOT linearly separable from each other.\\n'\n",
      " '\\n'\n",
      " '|details-start|\\n'\n",
      " '**References**\\n'\n",
      " '|details-split|\\n'\n",
      " '\\n'\n",
      " '- Fisher, R.A. \"The use of multiple measurements in taxonomic problems\"\\n'\n",
      " '  Annual Eugenics, 7, Part II, 179-188 (1936); also in \"Contributions to\\n'\n",
      " '  Mathematical Statistics\" (John Wiley, NY, 1950).\\n'\n",
      " '- Duda, R.O., & Hart, P.E. (1973) Pattern Classification and Scene '\n",
      " 'Analysis.\\n'\n",
      " '  (Q327.D83) John Wiley & Sons.  ISBN 0-471-22361-1.  See page 218.\\n'\n",
      " '- Dasarathy, B.V. (1980) \"Nosing Around the Neighborhood: A New System\\n'\n",
      " '  Structure and Classification Rule for Recognition in Partially Exposed\\n'\n",
      " '  Environments\".  IEEE Transactions on Pattern Analysis and Machine\\n'\n",
      " '  Intelligence, Vol. PAMI-2, No. 1, 67-71.\\n'\n",
      " '- Gates, G.W. (1972) \"The Reduced Nearest Neighbor Rule\".  IEEE '\n",
      " 'Transactions\\n'\n",
      " '  on Information Theory, May 1972, 431-433.\\n'\n",
      " '- See also: 1988 MLC Proceedings, 54-64.  Cheeseman et al\"s AUTOCLASS II\\n'\n",
      " '  conceptual clustering system finds 3 classes in the data.\\n'\n",
      " '- Many, many more ...\\n'\n",
      " '\\n'\n",
      " '|details-end|')\n"
     ]
    }
   ],
   "source": [
    "pprint(iris.DESCR)"
   ],
   "metadata": {
    "collapsed": false,
    "ExecuteTime": {
     "end_time": "2024-01-24T10:28:38.581590Z",
     "start_time": "2024-01-24T10:28:38.567653Z"
    }
   },
   "id": "93b7d34f19c47727",
   "execution_count": 42
  },
  {
   "cell_type": "markdown",
   "source": [
    "## Dataset to DataFrame"
   ],
   "metadata": {
    "collapsed": false
   },
   "id": "32aeb97a61224a3a"
  },
  {
   "cell_type": "code",
   "outputs": [],
   "source": [
    "# transform the array and JSON into a dataframe and set the column names from the key feature_names\n",
    "df = pd.DataFrame(iris.data, columns=iris.feature_names)"
   ],
   "metadata": {
    "collapsed": false,
    "ExecuteTime": {
     "end_time": "2024-01-24T10:28:38.595290Z",
     "start_time": "2024-01-24T10:28:38.582477Z"
    }
   },
   "id": "c78dc92fa233cc4f",
   "execution_count": 43
  },
  {
   "cell_type": "code",
   "outputs": [],
   "source": [
    "df[\"target\"] = pd.DataFrame(iris.target)"
   ],
   "metadata": {
    "collapsed": false,
    "ExecuteTime": {
     "end_time": "2024-01-24T10:28:38.597214Z",
     "start_time": "2024-01-24T10:28:38.586692Z"
    }
   },
   "id": "9acfc8e7080bce82",
   "execution_count": 44
  },
  {
   "cell_type": "code",
   "outputs": [],
   "source": [
    "df[\"species\"] = df[\"target\"].apply(lambda x: 'setosa' if x == 0 \n",
    "                                    else 'versicolor' if x == 1 \n",
    "                                    else 'virginica' if x == 2\n",
    "                                    else 'unknown')"
   ],
   "metadata": {
    "collapsed": false,
    "ExecuteTime": {
     "end_time": "2024-01-24T10:28:38.634974Z",
     "start_time": "2024-01-24T10:28:38.599213Z"
    }
   },
   "id": "a9d6a5e440ad90bf",
   "execution_count": 45
  },
  {
   "cell_type": "code",
   "outputs": [
    {
     "data": {
      "text/plain": "   sepal length (cm)  sepal width (cm)  petal length (cm)  petal width (cm)  \\\n0                5.1               3.5                1.4               0.2   \n1                4.9               3.0                1.4               0.2   \n2                4.7               3.2                1.3               0.2   \n3                4.6               3.1                1.5               0.2   \n4                5.0               3.6                1.4               0.2   \n\n   target species  \n0       0  setosa  \n1       0  setosa  \n2       0  setosa  \n3       0  setosa  \n4       0  setosa  ",
      "text/html": "<div>\n<style scoped>\n    .dataframe tbody tr th:only-of-type {\n        vertical-align: middle;\n    }\n\n    .dataframe tbody tr th {\n        vertical-align: top;\n    }\n\n    .dataframe thead th {\n        text-align: right;\n    }\n</style>\n<table border=\"1\" class=\"dataframe\">\n  <thead>\n    <tr style=\"text-align: right;\">\n      <th></th>\n      <th>sepal length (cm)</th>\n      <th>sepal width (cm)</th>\n      <th>petal length (cm)</th>\n      <th>petal width (cm)</th>\n      <th>target</th>\n      <th>species</th>\n    </tr>\n  </thead>\n  <tbody>\n    <tr>\n      <th>0</th>\n      <td>5.1</td>\n      <td>3.5</td>\n      <td>1.4</td>\n      <td>0.2</td>\n      <td>0</td>\n      <td>setosa</td>\n    </tr>\n    <tr>\n      <th>1</th>\n      <td>4.9</td>\n      <td>3.0</td>\n      <td>1.4</td>\n      <td>0.2</td>\n      <td>0</td>\n      <td>setosa</td>\n    </tr>\n    <tr>\n      <th>2</th>\n      <td>4.7</td>\n      <td>3.2</td>\n      <td>1.3</td>\n      <td>0.2</td>\n      <td>0</td>\n      <td>setosa</td>\n    </tr>\n    <tr>\n      <th>3</th>\n      <td>4.6</td>\n      <td>3.1</td>\n      <td>1.5</td>\n      <td>0.2</td>\n      <td>0</td>\n      <td>setosa</td>\n    </tr>\n    <tr>\n      <th>4</th>\n      <td>5.0</td>\n      <td>3.6</td>\n      <td>1.4</td>\n      <td>0.2</td>\n      <td>0</td>\n      <td>setosa</td>\n    </tr>\n  </tbody>\n</table>\n</div>"
     },
     "execution_count": 46,
     "metadata": {},
     "output_type": "execute_result"
    }
   ],
   "source": [
    "df.head()"
   ],
   "metadata": {
    "collapsed": false,
    "ExecuteTime": {
     "end_time": "2024-01-24T10:28:38.653743Z",
     "start_time": "2024-01-24T10:28:38.638337Z"
    }
   },
   "id": "e34c26173824a6bf",
   "execution_count": 46
  },
  {
   "cell_type": "code",
   "outputs": [
    {
     "data": {
      "text/plain": "     sepal length (cm)  sepal width (cm)  petal length (cm)  petal width (cm)  \\\n145                6.7               3.0                5.2               2.3   \n146                6.3               2.5                5.0               1.9   \n147                6.5               3.0                5.2               2.0   \n148                6.2               3.4                5.4               2.3   \n149                5.9               3.0                5.1               1.8   \n\n     target    species  \n145       2  virginica  \n146       2  virginica  \n147       2  virginica  \n148       2  virginica  \n149       2  virginica  ",
      "text/html": "<div>\n<style scoped>\n    .dataframe tbody tr th:only-of-type {\n        vertical-align: middle;\n    }\n\n    .dataframe tbody tr th {\n        vertical-align: top;\n    }\n\n    .dataframe thead th {\n        text-align: right;\n    }\n</style>\n<table border=\"1\" class=\"dataframe\">\n  <thead>\n    <tr style=\"text-align: right;\">\n      <th></th>\n      <th>sepal length (cm)</th>\n      <th>sepal width (cm)</th>\n      <th>petal length (cm)</th>\n      <th>petal width (cm)</th>\n      <th>target</th>\n      <th>species</th>\n    </tr>\n  </thead>\n  <tbody>\n    <tr>\n      <th>145</th>\n      <td>6.7</td>\n      <td>3.0</td>\n      <td>5.2</td>\n      <td>2.3</td>\n      <td>2</td>\n      <td>virginica</td>\n    </tr>\n    <tr>\n      <th>146</th>\n      <td>6.3</td>\n      <td>2.5</td>\n      <td>5.0</td>\n      <td>1.9</td>\n      <td>2</td>\n      <td>virginica</td>\n    </tr>\n    <tr>\n      <th>147</th>\n      <td>6.5</td>\n      <td>3.0</td>\n      <td>5.2</td>\n      <td>2.0</td>\n      <td>2</td>\n      <td>virginica</td>\n    </tr>\n    <tr>\n      <th>148</th>\n      <td>6.2</td>\n      <td>3.4</td>\n      <td>5.4</td>\n      <td>2.3</td>\n      <td>2</td>\n      <td>virginica</td>\n    </tr>\n    <tr>\n      <th>149</th>\n      <td>5.9</td>\n      <td>3.0</td>\n      <td>5.1</td>\n      <td>1.8</td>\n      <td>2</td>\n      <td>virginica</td>\n    </tr>\n  </tbody>\n</table>\n</div>"
     },
     "execution_count": 47,
     "metadata": {},
     "output_type": "execute_result"
    }
   ],
   "source": [
    "df.tail()"
   ],
   "metadata": {
    "collapsed": false,
    "ExecuteTime": {
     "end_time": "2024-01-24T10:28:38.666855Z",
     "start_time": "2024-01-24T10:28:38.656927Z"
    }
   },
   "id": "762784d6a025ba75",
   "execution_count": 47
  },
  {
   "cell_type": "code",
   "outputs": [],
   "source": [
    "# save the data as a csv\n",
    "df.to_csv('iris.csv', index=False)"
   ],
   "metadata": {
    "collapsed": false,
    "ExecuteTime": {
     "end_time": "2024-01-24T10:28:38.686608Z",
     "start_time": "2024-01-24T10:28:38.659924Z"
    }
   },
   "id": "c1c93c0324f059c9",
   "execution_count": 48
  },
  {
   "cell_type": "markdown",
   "source": [
    "## Filters"
   ],
   "metadata": {
    "collapsed": false
   },
   "id": "c4f3221b3442f97"
  },
  {
   "cell_type": "code",
   "outputs": [
    {
     "data": {
      "text/plain": "Index(['sepal length (cm)', 'sepal width (cm)', 'petal length (cm)',\n       'petal width (cm)', 'target', 'species'],\n      dtype='object')"
     },
     "execution_count": 49,
     "metadata": {},
     "output_type": "execute_result"
    }
   ],
   "source": [
    "df = pd.read_csv('iris.csv')\n",
    "df.columns"
   ],
   "metadata": {
    "collapsed": false,
    "ExecuteTime": {
     "end_time": "2024-01-24T10:28:38.703153Z",
     "start_time": "2024-01-24T10:28:38.667788Z"
    }
   },
   "id": "e5286b46b3ec1b12",
   "execution_count": 49
  },
  {
   "cell_type": "markdown",
   "source": [
    "## Projection"
   ],
   "metadata": {
    "collapsed": false
   },
   "id": "5524961f442ca5bd"
  },
  {
   "cell_type": "code",
   "outputs": [
    {
     "data": {
      "text/plain": "   sepal length (cm)  sepal width (cm)\n0                5.1               3.5\n1                4.9               3.0\n2                4.7               3.2\n3                4.6               3.1\n4                5.0               3.6",
      "text/html": "<div>\n<style scoped>\n    .dataframe tbody tr th:only-of-type {\n        vertical-align: middle;\n    }\n\n    .dataframe tbody tr th {\n        vertical-align: top;\n    }\n\n    .dataframe thead th {\n        text-align: right;\n    }\n</style>\n<table border=\"1\" class=\"dataframe\">\n  <thead>\n    <tr style=\"text-align: right;\">\n      <th></th>\n      <th>sepal length (cm)</th>\n      <th>sepal width (cm)</th>\n    </tr>\n  </thead>\n  <tbody>\n    <tr>\n      <th>0</th>\n      <td>5.1</td>\n      <td>3.5</td>\n    </tr>\n    <tr>\n      <th>1</th>\n      <td>4.9</td>\n      <td>3.0</td>\n    </tr>\n    <tr>\n      <th>2</th>\n      <td>4.7</td>\n      <td>3.2</td>\n    </tr>\n    <tr>\n      <th>3</th>\n      <td>4.6</td>\n      <td>3.1</td>\n    </tr>\n    <tr>\n      <th>4</th>\n      <td>5.0</td>\n      <td>3.6</td>\n    </tr>\n  </tbody>\n</table>\n</div>"
     },
     "execution_count": 50,
     "metadata": {},
     "output_type": "execute_result"
    }
   ],
   "source": [
    "columns_to_keep = ['sepal length (cm)', 'sepal width (cm)']\n",
    "filtered_df = df[columns_to_keep]\n",
    "filtered_df.head()"
   ],
   "metadata": {
    "collapsed": false,
    "ExecuteTime": {
     "end_time": "2024-01-24T10:28:38.767947Z",
     "start_time": "2024-01-24T10:28:38.692355Z"
    }
   },
   "id": "63e1e88c279961cd",
   "execution_count": 50
  },
  {
   "cell_type": "markdown",
   "source": [
    "## Restriction"
   ],
   "metadata": {
    "collapsed": false
   },
   "id": "102d320f7ea34db7"
  },
  {
   "cell_type": "code",
   "outputs": [
    {
     "data": {
      "text/plain": "    sepal length (cm)  sepal width (cm)  petal length (cm)  petal width (cm)  \\\n0                 5.1               3.5                1.4               0.2   \n5                 5.4               3.9                1.7               0.4   \n10                5.4               3.7                1.5               0.2   \n14                5.8               4.0                1.2               0.2   \n15                5.7               4.4                1.5               0.4   \n\n    target species  \n0        0  setosa  \n5        0  setosa  \n10       0  setosa  \n14       0  setosa  \n15       0  setosa  ",
      "text/html": "<div>\n<style scoped>\n    .dataframe tbody tr th:only-of-type {\n        vertical-align: middle;\n    }\n\n    .dataframe tbody tr th {\n        vertical-align: top;\n    }\n\n    .dataframe thead th {\n        text-align: right;\n    }\n</style>\n<table border=\"1\" class=\"dataframe\">\n  <thead>\n    <tr style=\"text-align: right;\">\n      <th></th>\n      <th>sepal length (cm)</th>\n      <th>sepal width (cm)</th>\n      <th>petal length (cm)</th>\n      <th>petal width (cm)</th>\n      <th>target</th>\n      <th>species</th>\n    </tr>\n  </thead>\n  <tbody>\n    <tr>\n      <th>0</th>\n      <td>5.1</td>\n      <td>3.5</td>\n      <td>1.4</td>\n      <td>0.2</td>\n      <td>0</td>\n      <td>setosa</td>\n    </tr>\n    <tr>\n      <th>5</th>\n      <td>5.4</td>\n      <td>3.9</td>\n      <td>1.7</td>\n      <td>0.4</td>\n      <td>0</td>\n      <td>setosa</td>\n    </tr>\n    <tr>\n      <th>10</th>\n      <td>5.4</td>\n      <td>3.7</td>\n      <td>1.5</td>\n      <td>0.2</td>\n      <td>0</td>\n      <td>setosa</td>\n    </tr>\n    <tr>\n      <th>14</th>\n      <td>5.8</td>\n      <td>4.0</td>\n      <td>1.2</td>\n      <td>0.2</td>\n      <td>0</td>\n      <td>setosa</td>\n    </tr>\n    <tr>\n      <th>15</th>\n      <td>5.7</td>\n      <td>4.4</td>\n      <td>1.5</td>\n      <td>0.4</td>\n      <td>0</td>\n      <td>setosa</td>\n    </tr>\n  </tbody>\n</table>\n</div>"
     },
     "execution_count": 51,
     "metadata": {},
     "output_type": "execute_result"
    }
   ],
   "source": [
    "df =pd.read_csv('iris.csv')\n",
    "mask = df['sepal length (cm)'] > 5\n",
    "filtered_df = df[mask]\n",
    "filtered_df.head()"
   ],
   "metadata": {
    "collapsed": false,
    "ExecuteTime": {
     "end_time": "2024-01-24T10:28:38.811228Z",
     "start_time": "2024-01-24T10:28:38.756403Z"
    }
   },
   "id": "3055f1ed2b70a452",
   "execution_count": 51
  },
  {
   "cell_type": "code",
   "outputs": [
    {
     "data": {
      "text/plain": "     sepal length (cm)  sepal width (cm)  petal length (cm)  petal width (cm)  \\\n0                  5.1               3.5                1.4               0.2   \n1                  4.9               3.0                1.4               0.2   \n2                  4.7               3.2                1.3               0.2   \n3                  4.6               3.1                1.5               0.2   \n4                  5.0               3.6                1.4               0.2   \n..                 ...               ...                ...               ...   \n145                6.7               3.0                5.2               2.3   \n146                6.3               2.5                5.0               1.9   \n147                6.5               3.0                5.2               2.0   \n148                6.2               3.4                5.4               2.3   \n149                5.9               3.0                5.1               1.8   \n\n     target    species  \n0         0     setosa  \n1         0     setosa  \n2         0     setosa  \n3         0     setosa  \n4         0     setosa  \n..      ...        ...  \n145       2  virginica  \n146       2  virginica  \n147       2  virginica  \n148       2  virginica  \n149       2  virginica  \n\n[150 rows x 6 columns]",
      "text/html": "<div>\n<style scoped>\n    .dataframe tbody tr th:only-of-type {\n        vertical-align: middle;\n    }\n\n    .dataframe tbody tr th {\n        vertical-align: top;\n    }\n\n    .dataframe thead th {\n        text-align: right;\n    }\n</style>\n<table border=\"1\" class=\"dataframe\">\n  <thead>\n    <tr style=\"text-align: right;\">\n      <th></th>\n      <th>sepal length (cm)</th>\n      <th>sepal width (cm)</th>\n      <th>petal length (cm)</th>\n      <th>petal width (cm)</th>\n      <th>target</th>\n      <th>species</th>\n    </tr>\n  </thead>\n  <tbody>\n    <tr>\n      <th>0</th>\n      <td>5.1</td>\n      <td>3.5</td>\n      <td>1.4</td>\n      <td>0.2</td>\n      <td>0</td>\n      <td>setosa</td>\n    </tr>\n    <tr>\n      <th>1</th>\n      <td>4.9</td>\n      <td>3.0</td>\n      <td>1.4</td>\n      <td>0.2</td>\n      <td>0</td>\n      <td>setosa</td>\n    </tr>\n    <tr>\n      <th>2</th>\n      <td>4.7</td>\n      <td>3.2</td>\n      <td>1.3</td>\n      <td>0.2</td>\n      <td>0</td>\n      <td>setosa</td>\n    </tr>\n    <tr>\n      <th>3</th>\n      <td>4.6</td>\n      <td>3.1</td>\n      <td>1.5</td>\n      <td>0.2</td>\n      <td>0</td>\n      <td>setosa</td>\n    </tr>\n    <tr>\n      <th>4</th>\n      <td>5.0</td>\n      <td>3.6</td>\n      <td>1.4</td>\n      <td>0.2</td>\n      <td>0</td>\n      <td>setosa</td>\n    </tr>\n    <tr>\n      <th>...</th>\n      <td>...</td>\n      <td>...</td>\n      <td>...</td>\n      <td>...</td>\n      <td>...</td>\n      <td>...</td>\n    </tr>\n    <tr>\n      <th>145</th>\n      <td>6.7</td>\n      <td>3.0</td>\n      <td>5.2</td>\n      <td>2.3</td>\n      <td>2</td>\n      <td>virginica</td>\n    </tr>\n    <tr>\n      <th>146</th>\n      <td>6.3</td>\n      <td>2.5</td>\n      <td>5.0</td>\n      <td>1.9</td>\n      <td>2</td>\n      <td>virginica</td>\n    </tr>\n    <tr>\n      <th>147</th>\n      <td>6.5</td>\n      <td>3.0</td>\n      <td>5.2</td>\n      <td>2.0</td>\n      <td>2</td>\n      <td>virginica</td>\n    </tr>\n    <tr>\n      <th>148</th>\n      <td>6.2</td>\n      <td>3.4</td>\n      <td>5.4</td>\n      <td>2.3</td>\n      <td>2</td>\n      <td>virginica</td>\n    </tr>\n    <tr>\n      <th>149</th>\n      <td>5.9</td>\n      <td>3.0</td>\n      <td>5.1</td>\n      <td>1.8</td>\n      <td>2</td>\n      <td>virginica</td>\n    </tr>\n  </tbody>\n</table>\n<p>150 rows × 6 columns</p>\n</div>"
     },
     "execution_count": 52,
     "metadata": {},
     "output_type": "execute_result"
    }
   ],
   "source": [
    "df "
   ],
   "metadata": {
    "collapsed": false,
    "ExecuteTime": {
     "end_time": "2024-01-24T10:28:38.848297Z",
     "start_time": "2024-01-24T10:28:38.808347Z"
    }
   },
   "id": "1bee8cd102e0ae97",
   "execution_count": 52
  },
  {
   "cell_type": "code",
   "outputs": [
    {
     "data": {
      "text/plain": "0       True\n1      False\n2      False\n3      False\n4      False\n       ...  \n145     True\n146     True\n147     True\n148     True\n149     True\nName: sepal length (cm), Length: 150, dtype: bool"
     },
     "execution_count": 53,
     "metadata": {},
     "output_type": "execute_result"
    }
   ],
   "source": [
    "mask"
   ],
   "metadata": {
    "collapsed": false,
    "ExecuteTime": {
     "end_time": "2024-01-24T10:28:38.892575Z",
     "start_time": "2024-01-24T10:28:38.850218Z"
    }
   },
   "id": "9380fc369f0ade14",
   "execution_count": 53
  },
  {
   "cell_type": "code",
   "outputs": [
    {
     "data": {
      "text/plain": "     sepal length (cm)  sepal width (cm)  petal length (cm)  petal width (cm)  \\\n0                  5.1               3.5                1.4               0.2   \n5                  5.4               3.9                1.7               0.4   \n10                 5.4               3.7                1.5               0.2   \n14                 5.8               4.0                1.2               0.2   \n15                 5.7               4.4                1.5               0.4   \n..                 ...               ...                ...               ...   \n145                6.7               3.0                5.2               2.3   \n146                6.3               2.5                5.0               1.9   \n147                6.5               3.0                5.2               2.0   \n148                6.2               3.4                5.4               2.3   \n149                5.9               3.0                5.1               1.8   \n\n     target    species  \n0         0     setosa  \n5         0     setosa  \n10        0     setosa  \n14        0     setosa  \n15        0     setosa  \n..      ...        ...  \n145       2  virginica  \n146       2  virginica  \n147       2  virginica  \n148       2  virginica  \n149       2  virginica  \n\n[118 rows x 6 columns]",
      "text/html": "<div>\n<style scoped>\n    .dataframe tbody tr th:only-of-type {\n        vertical-align: middle;\n    }\n\n    .dataframe tbody tr th {\n        vertical-align: top;\n    }\n\n    .dataframe thead th {\n        text-align: right;\n    }\n</style>\n<table border=\"1\" class=\"dataframe\">\n  <thead>\n    <tr style=\"text-align: right;\">\n      <th></th>\n      <th>sepal length (cm)</th>\n      <th>sepal width (cm)</th>\n      <th>petal length (cm)</th>\n      <th>petal width (cm)</th>\n      <th>target</th>\n      <th>species</th>\n    </tr>\n  </thead>\n  <tbody>\n    <tr>\n      <th>0</th>\n      <td>5.1</td>\n      <td>3.5</td>\n      <td>1.4</td>\n      <td>0.2</td>\n      <td>0</td>\n      <td>setosa</td>\n    </tr>\n    <tr>\n      <th>5</th>\n      <td>5.4</td>\n      <td>3.9</td>\n      <td>1.7</td>\n      <td>0.4</td>\n      <td>0</td>\n      <td>setosa</td>\n    </tr>\n    <tr>\n      <th>10</th>\n      <td>5.4</td>\n      <td>3.7</td>\n      <td>1.5</td>\n      <td>0.2</td>\n      <td>0</td>\n      <td>setosa</td>\n    </tr>\n    <tr>\n      <th>14</th>\n      <td>5.8</td>\n      <td>4.0</td>\n      <td>1.2</td>\n      <td>0.2</td>\n      <td>0</td>\n      <td>setosa</td>\n    </tr>\n    <tr>\n      <th>15</th>\n      <td>5.7</td>\n      <td>4.4</td>\n      <td>1.5</td>\n      <td>0.4</td>\n      <td>0</td>\n      <td>setosa</td>\n    </tr>\n    <tr>\n      <th>...</th>\n      <td>...</td>\n      <td>...</td>\n      <td>...</td>\n      <td>...</td>\n      <td>...</td>\n      <td>...</td>\n    </tr>\n    <tr>\n      <th>145</th>\n      <td>6.7</td>\n      <td>3.0</td>\n      <td>5.2</td>\n      <td>2.3</td>\n      <td>2</td>\n      <td>virginica</td>\n    </tr>\n    <tr>\n      <th>146</th>\n      <td>6.3</td>\n      <td>2.5</td>\n      <td>5.0</td>\n      <td>1.9</td>\n      <td>2</td>\n      <td>virginica</td>\n    </tr>\n    <tr>\n      <th>147</th>\n      <td>6.5</td>\n      <td>3.0</td>\n      <td>5.2</td>\n      <td>2.0</td>\n      <td>2</td>\n      <td>virginica</td>\n    </tr>\n    <tr>\n      <th>148</th>\n      <td>6.2</td>\n      <td>3.4</td>\n      <td>5.4</td>\n      <td>2.3</td>\n      <td>2</td>\n      <td>virginica</td>\n    </tr>\n    <tr>\n      <th>149</th>\n      <td>5.9</td>\n      <td>3.0</td>\n      <td>5.1</td>\n      <td>1.8</td>\n      <td>2</td>\n      <td>virginica</td>\n    </tr>\n  </tbody>\n</table>\n<p>118 rows × 6 columns</p>\n</div>"
     },
     "execution_count": 54,
     "metadata": {},
     "output_type": "execute_result"
    }
   ],
   "source": [
    "filtered_df"
   ],
   "metadata": {
    "collapsed": false,
    "ExecuteTime": {
     "end_time": "2024-01-24T10:28:38.946864Z",
     "start_time": "2024-01-24T10:28:38.896674Z"
    }
   },
   "id": "26aa1f78cfcf6383",
   "execution_count": 54
  },
  {
   "cell_type": "markdown",
   "source": [
    "## loc & iloc"
   ],
   "metadata": {
    "collapsed": false
   },
   "id": "acc6e2d92bf327bd"
  },
  {
   "cell_type": "code",
   "outputs": [
    {
     "data": {
      "text/plain": "   sepal length (cm)  petal length (cm)\n1                4.9                1.4\n2                4.7                1.3\n3                4.6                1.5",
      "text/html": "<div>\n<style scoped>\n    .dataframe tbody tr th:only-of-type {\n        vertical-align: middle;\n    }\n\n    .dataframe tbody tr th {\n        vertical-align: top;\n    }\n\n    .dataframe thead th {\n        text-align: right;\n    }\n</style>\n<table border=\"1\" class=\"dataframe\">\n  <thead>\n    <tr style=\"text-align: right;\">\n      <th></th>\n      <th>sepal length (cm)</th>\n      <th>petal length (cm)</th>\n    </tr>\n  </thead>\n  <tbody>\n    <tr>\n      <th>1</th>\n      <td>4.9</td>\n      <td>1.4</td>\n    </tr>\n    <tr>\n      <th>2</th>\n      <td>4.7</td>\n      <td>1.3</td>\n    </tr>\n    <tr>\n      <th>3</th>\n      <td>4.6</td>\n      <td>1.5</td>\n    </tr>\n  </tbody>\n</table>\n</div>"
     },
     "execution_count": 55,
     "metadata": {},
     "output_type": "execute_result"
    }
   ],
   "source": [
    "df = pd.read_csv('iris.csv')\n",
    "filtered_df = df.loc[1:3, ['sepal length (cm)', 'petal length (cm)']]\n",
    "filtered_df"
   ],
   "metadata": {
    "collapsed": false,
    "ExecuteTime": {
     "end_time": "2024-01-24T10:28:38.980783Z",
     "start_time": "2024-01-24T10:28:38.947176Z"
    }
   },
   "id": "1afffac71effb0e9",
   "execution_count": 55
  },
  {
   "cell_type": "code",
   "outputs": [
    {
     "data": {
      "text/plain": "   sepal length (cm)  target\n1                4.9       0\n2                4.7       0\n3                4.6       0",
      "text/html": "<div>\n<style scoped>\n    .dataframe tbody tr th:only-of-type {\n        vertical-align: middle;\n    }\n\n    .dataframe tbody tr th {\n        vertical-align: top;\n    }\n\n    .dataframe thead th {\n        text-align: right;\n    }\n</style>\n<table border=\"1\" class=\"dataframe\">\n  <thead>\n    <tr style=\"text-align: right;\">\n      <th></th>\n      <th>sepal length (cm)</th>\n      <th>target</th>\n    </tr>\n  </thead>\n  <tbody>\n    <tr>\n      <th>1</th>\n      <td>4.9</td>\n      <td>0</td>\n    </tr>\n    <tr>\n      <th>2</th>\n      <td>4.7</td>\n      <td>0</td>\n    </tr>\n    <tr>\n      <th>3</th>\n      <td>4.6</td>\n      <td>0</td>\n    </tr>\n  </tbody>\n</table>\n</div>"
     },
     "execution_count": 76,
     "metadata": {},
     "output_type": "execute_result"
    }
   ],
   "source": [
    "df = pd.read_csv('iris.csv')\n",
    "filtered_df = df.iloc[1:4, [0, 2]]\n",
    "filtered_df"
   ],
   "metadata": {
    "collapsed": false,
    "ExecuteTime": {
     "end_time": "2024-01-24T10:30:17.686725Z",
     "start_time": "2024-01-24T10:30:17.680419Z"
    }
   },
   "id": "f79fc07239bdc02b",
   "execution_count": 76
  },
  {
   "cell_type": "code",
   "outputs": [
    {
     "data": {
      "text/plain": "   sepal length (cm)  sepal width (cm)  petal length (cm)  petal width (cm)  \\\n1                4.9               3.0                1.4               0.2   \n2                4.7               3.2                1.3               0.2   \n3                4.6               3.1                1.5               0.2   \n\n   target species  \n1       0  setosa  \n2       0  setosa  \n3       0  setosa  ",
      "text/html": "<div>\n<style scoped>\n    .dataframe tbody tr th:only-of-type {\n        vertical-align: middle;\n    }\n\n    .dataframe tbody tr th {\n        vertical-align: top;\n    }\n\n    .dataframe thead th {\n        text-align: right;\n    }\n</style>\n<table border=\"1\" class=\"dataframe\">\n  <thead>\n    <tr style=\"text-align: right;\">\n      <th></th>\n      <th>sepal length (cm)</th>\n      <th>sepal width (cm)</th>\n      <th>petal length (cm)</th>\n      <th>petal width (cm)</th>\n      <th>target</th>\n      <th>species</th>\n    </tr>\n  </thead>\n  <tbody>\n    <tr>\n      <th>1</th>\n      <td>4.9</td>\n      <td>3.0</td>\n      <td>1.4</td>\n      <td>0.2</td>\n      <td>0</td>\n      <td>setosa</td>\n    </tr>\n    <tr>\n      <th>2</th>\n      <td>4.7</td>\n      <td>3.2</td>\n      <td>1.3</td>\n      <td>0.2</td>\n      <td>0</td>\n      <td>setosa</td>\n    </tr>\n    <tr>\n      <th>3</th>\n      <td>4.6</td>\n      <td>3.1</td>\n      <td>1.5</td>\n      <td>0.2</td>\n      <td>0</td>\n      <td>setosa</td>\n    </tr>\n  </tbody>\n</table>\n</div>"
     },
     "execution_count": 57,
     "metadata": {},
     "output_type": "execute_result"
    }
   ],
   "source": [
    "filtered_df = df.loc[1:3,:]\n",
    "filtered_df"
   ],
   "metadata": {
    "collapsed": false,
    "ExecuteTime": {
     "end_time": "2024-01-24T10:28:39.041799Z",
     "start_time": "2024-01-24T10:28:38.994931Z"
    }
   },
   "id": "1a99f91f23493c2a",
   "execution_count": 57
  },
  {
   "cell_type": "markdown",
   "source": [
    "## Unions"
   ],
   "metadata": {
    "collapsed": false
   },
   "id": "cce5627092f47806"
  },
  {
   "cell_type": "code",
   "outputs": [
    {
     "data": {
      "text/plain": "   sepal length (cm)  sepal width (cm)  petal length (cm)  petal width (cm)  \\\n2                4.7               3.2                1.3               0.2   \n3                4.6               3.1                1.5               0.2   \n5                5.4               3.9                1.7               0.4   \n6                4.6               3.4                1.4               0.3   \n\n   target species  \n2       0  setosa  \n3       0  setosa  \n5       0  setosa  \n6       0  setosa  ",
      "text/html": "<div>\n<style scoped>\n    .dataframe tbody tr th:only-of-type {\n        vertical-align: middle;\n    }\n\n    .dataframe tbody tr th {\n        vertical-align: top;\n    }\n\n    .dataframe thead th {\n        text-align: right;\n    }\n</style>\n<table border=\"1\" class=\"dataframe\">\n  <thead>\n    <tr style=\"text-align: right;\">\n      <th></th>\n      <th>sepal length (cm)</th>\n      <th>sepal width (cm)</th>\n      <th>petal length (cm)</th>\n      <th>petal width (cm)</th>\n      <th>target</th>\n      <th>species</th>\n    </tr>\n  </thead>\n  <tbody>\n    <tr>\n      <th>2</th>\n      <td>4.7</td>\n      <td>3.2</td>\n      <td>1.3</td>\n      <td>0.2</td>\n      <td>0</td>\n      <td>setosa</td>\n    </tr>\n    <tr>\n      <th>3</th>\n      <td>4.6</td>\n      <td>3.1</td>\n      <td>1.5</td>\n      <td>0.2</td>\n      <td>0</td>\n      <td>setosa</td>\n    </tr>\n    <tr>\n      <th>5</th>\n      <td>5.4</td>\n      <td>3.9</td>\n      <td>1.7</td>\n      <td>0.4</td>\n      <td>0</td>\n      <td>setosa</td>\n    </tr>\n    <tr>\n      <th>6</th>\n      <td>4.6</td>\n      <td>3.4</td>\n      <td>1.4</td>\n      <td>0.3</td>\n      <td>0</td>\n      <td>setosa</td>\n    </tr>\n  </tbody>\n</table>\n</div>"
     },
     "execution_count": 58,
     "metadata": {},
     "output_type": "execute_result"
    }
   ],
   "source": [
    "first_df = df.iloc[2:4]\n",
    "second_df = df.iloc[5:7]\n",
    "union_df = pd.concat([first_df, second_df], axis=0)\n",
    "union_df"
   ],
   "metadata": {
    "collapsed": false,
    "ExecuteTime": {
     "end_time": "2024-01-24T10:28:39.100718Z",
     "start_time": "2024-01-24T10:28:39.032620Z"
    }
   },
   "id": "530751b50598c888",
   "execution_count": 58
  },
  {
   "cell_type": "code",
   "outputs": [
    {
     "data": {
      "text/plain": "   petal length (cm)  petal width (cm)  sepal length (cm)  sepal width (cm)\n0                1.4               0.2                5.1               3.5\n1                1.4               0.2                4.9               3.0\n2                1.3               0.2                4.7               3.2\n3                1.5               0.2                4.6               3.1\n4                1.4               0.2                5.0               3.6",
      "text/html": "<div>\n<style scoped>\n    .dataframe tbody tr th:only-of-type {\n        vertical-align: middle;\n    }\n\n    .dataframe tbody tr th {\n        vertical-align: top;\n    }\n\n    .dataframe thead th {\n        text-align: right;\n    }\n</style>\n<table border=\"1\" class=\"dataframe\">\n  <thead>\n    <tr style=\"text-align: right;\">\n      <th></th>\n      <th>petal length (cm)</th>\n      <th>petal width (cm)</th>\n      <th>sepal length (cm)</th>\n      <th>sepal width (cm)</th>\n    </tr>\n  </thead>\n  <tbody>\n    <tr>\n      <th>0</th>\n      <td>1.4</td>\n      <td>0.2</td>\n      <td>5.1</td>\n      <td>3.5</td>\n    </tr>\n    <tr>\n      <th>1</th>\n      <td>1.4</td>\n      <td>0.2</td>\n      <td>4.9</td>\n      <td>3.0</td>\n    </tr>\n    <tr>\n      <th>2</th>\n      <td>1.3</td>\n      <td>0.2</td>\n      <td>4.7</td>\n      <td>3.2</td>\n    </tr>\n    <tr>\n      <th>3</th>\n      <td>1.5</td>\n      <td>0.2</td>\n      <td>4.6</td>\n      <td>3.1</td>\n    </tr>\n    <tr>\n      <th>4</th>\n      <td>1.4</td>\n      <td>0.2</td>\n      <td>5.0</td>\n      <td>3.6</td>\n    </tr>\n  </tbody>\n</table>\n</div>"
     },
     "execution_count": 59,
     "metadata": {},
     "output_type": "execute_result"
    }
   ],
   "source": [
    "df_petal = df[['petal length (cm)', 'petal width (cm)']]\n",
    "df_sepal = df[['sepal length (cm)', 'sepal width (cm)']]\n",
    "union_df = pd.concat([df_petal, df_sepal], axis=1)\n",
    "union_df.head()"
   ],
   "metadata": {
    "collapsed": false,
    "ExecuteTime": {
     "end_time": "2024-01-24T10:28:39.156128Z",
     "start_time": "2024-01-24T10:28:39.088014Z"
    }
   },
   "id": "845087ff8e89e68c",
   "execution_count": 59
  },
  {
   "cell_type": "markdown",
   "source": [
    "## Create new columns"
   ],
   "metadata": {
    "collapsed": false
   },
   "id": "9528d10201fa74e1"
  },
  {
   "cell_type": "code",
   "outputs": [
    {
     "data": {
      "text/plain": "   sepal length (cm)  sepal width (cm)  petal length (cm)  petal width (cm)  \\\n0                5.1               3.5                1.4               0.2   \n1                4.9               3.0                1.4               0.2   \n2                4.7               3.2                1.3               0.2   \n3                4.6               3.1                1.5               0.2   \n4                5.0               3.6                1.4               0.2   \n\n   target species  my_custom_column  \n0       0  setosa                 0  \n1       0  setosa                 0  \n2       0  setosa                 0  \n3       0  setosa                 0  \n4       0  setosa                 0  ",
      "text/html": "<div>\n<style scoped>\n    .dataframe tbody tr th:only-of-type {\n        vertical-align: middle;\n    }\n\n    .dataframe tbody tr th {\n        vertical-align: top;\n    }\n\n    .dataframe thead th {\n        text-align: right;\n    }\n</style>\n<table border=\"1\" class=\"dataframe\">\n  <thead>\n    <tr style=\"text-align: right;\">\n      <th></th>\n      <th>sepal length (cm)</th>\n      <th>sepal width (cm)</th>\n      <th>petal length (cm)</th>\n      <th>petal width (cm)</th>\n      <th>target</th>\n      <th>species</th>\n      <th>my_custom_column</th>\n    </tr>\n  </thead>\n  <tbody>\n    <tr>\n      <th>0</th>\n      <td>5.1</td>\n      <td>3.5</td>\n      <td>1.4</td>\n      <td>0.2</td>\n      <td>0</td>\n      <td>setosa</td>\n      <td>0</td>\n    </tr>\n    <tr>\n      <th>1</th>\n      <td>4.9</td>\n      <td>3.0</td>\n      <td>1.4</td>\n      <td>0.2</td>\n      <td>0</td>\n      <td>setosa</td>\n      <td>0</td>\n    </tr>\n    <tr>\n      <th>2</th>\n      <td>4.7</td>\n      <td>3.2</td>\n      <td>1.3</td>\n      <td>0.2</td>\n      <td>0</td>\n      <td>setosa</td>\n      <td>0</td>\n    </tr>\n    <tr>\n      <th>3</th>\n      <td>4.6</td>\n      <td>3.1</td>\n      <td>1.5</td>\n      <td>0.2</td>\n      <td>0</td>\n      <td>setosa</td>\n      <td>0</td>\n    </tr>\n    <tr>\n      <th>4</th>\n      <td>5.0</td>\n      <td>3.6</td>\n      <td>1.4</td>\n      <td>0.2</td>\n      <td>0</td>\n      <td>setosa</td>\n      <td>0</td>\n    </tr>\n  </tbody>\n</table>\n</div>"
     },
     "execution_count": 60,
     "metadata": {},
     "output_type": "execute_result"
    }
   ],
   "source": [
    "df[\"my_custom_column\"] = 0\n",
    "df.head()"
   ],
   "metadata": {
    "collapsed": false,
    "ExecuteTime": {
     "end_time": "2024-01-24T10:28:39.229489Z",
     "start_time": "2024-01-24T10:28:39.160491Z"
    }
   },
   "id": "86689a67438ec5bf",
   "execution_count": 60
  },
  {
   "cell_type": "code",
   "outputs": [
    {
     "data": {
      "text/plain": "   sepal length (cm)  sepal width (cm)  petal length (cm)  petal width (cm)  \\\n0                5.1               3.5                1.4               0.2   \n1                4.9               3.0                1.4               0.2   \n2                4.7               3.2                1.3               0.2   \n3                4.6               3.1                1.5               0.2   \n4                5.0               3.6                1.4               0.2   \n\n   target species  petal_area  \n0       0  setosa        0.28  \n1       0  setosa        0.28  \n2       0  setosa        0.26  \n3       0  setosa        0.30  \n4       0  setosa        0.28  ",
      "text/html": "<div>\n<style scoped>\n    .dataframe tbody tr th:only-of-type {\n        vertical-align: middle;\n    }\n\n    .dataframe tbody tr th {\n        vertical-align: top;\n    }\n\n    .dataframe thead th {\n        text-align: right;\n    }\n</style>\n<table border=\"1\" class=\"dataframe\">\n  <thead>\n    <tr style=\"text-align: right;\">\n      <th></th>\n      <th>sepal length (cm)</th>\n      <th>sepal width (cm)</th>\n      <th>petal length (cm)</th>\n      <th>petal width (cm)</th>\n      <th>target</th>\n      <th>species</th>\n      <th>petal_area</th>\n    </tr>\n  </thead>\n  <tbody>\n    <tr>\n      <th>0</th>\n      <td>5.1</td>\n      <td>3.5</td>\n      <td>1.4</td>\n      <td>0.2</td>\n      <td>0</td>\n      <td>setosa</td>\n      <td>0.28</td>\n    </tr>\n    <tr>\n      <th>1</th>\n      <td>4.9</td>\n      <td>3.0</td>\n      <td>1.4</td>\n      <td>0.2</td>\n      <td>0</td>\n      <td>setosa</td>\n      <td>0.28</td>\n    </tr>\n    <tr>\n      <th>2</th>\n      <td>4.7</td>\n      <td>3.2</td>\n      <td>1.3</td>\n      <td>0.2</td>\n      <td>0</td>\n      <td>setosa</td>\n      <td>0.26</td>\n    </tr>\n    <tr>\n      <th>3</th>\n      <td>4.6</td>\n      <td>3.1</td>\n      <td>1.5</td>\n      <td>0.2</td>\n      <td>0</td>\n      <td>setosa</td>\n      <td>0.30</td>\n    </tr>\n    <tr>\n      <th>4</th>\n      <td>5.0</td>\n      <td>3.6</td>\n      <td>1.4</td>\n      <td>0.2</td>\n      <td>0</td>\n      <td>setosa</td>\n      <td>0.28</td>\n    </tr>\n  </tbody>\n</table>\n</div>"
     },
     "execution_count": 61,
     "metadata": {},
     "output_type": "execute_result"
    }
   ],
   "source": [
    "df = pd.read_csv('iris.csv')\n",
    "df[\"petal_area\"] = df[\"petal length (cm)\"] * df[\"petal width (cm)\"]\n",
    "df.head()"
   ],
   "metadata": {
    "collapsed": false,
    "ExecuteTime": {
     "end_time": "2024-01-24T10:28:39.290190Z",
     "start_time": "2024-01-24T10:28:39.219012Z"
    }
   },
   "id": "ca54bc6c62bdb98f",
   "execution_count": 61
  },
  {
   "cell_type": "markdown",
   "source": [
    "## Aggregation"
   ],
   "metadata": {
    "collapsed": false
   },
   "id": "72c052361a916416"
  },
  {
   "cell_type": "code",
   "outputs": [
    {
     "data": {
      "text/plain": "            petal length (cm)\nspecies                      \nsetosa                  1.462\nversicolor              4.260\nvirginica               5.552",
      "text/html": "<div>\n<style scoped>\n    .dataframe tbody tr th:only-of-type {\n        vertical-align: middle;\n    }\n\n    .dataframe tbody tr th {\n        vertical-align: top;\n    }\n\n    .dataframe thead th {\n        text-align: right;\n    }\n</style>\n<table border=\"1\" class=\"dataframe\">\n  <thead>\n    <tr style=\"text-align: right;\">\n      <th></th>\n      <th>petal length (cm)</th>\n    </tr>\n    <tr>\n      <th>species</th>\n      <th></th>\n    </tr>\n  </thead>\n  <tbody>\n    <tr>\n      <th>setosa</th>\n      <td>1.462</td>\n    </tr>\n    <tr>\n      <th>versicolor</th>\n      <td>4.260</td>\n    </tr>\n    <tr>\n      <th>virginica</th>\n      <td>5.552</td>\n    </tr>\n  </tbody>\n</table>\n</div>"
     },
     "execution_count": 62,
     "metadata": {},
     "output_type": "execute_result"
    }
   ],
   "source": [
    "df[[\"species\", \"petal length (cm)\"]].groupby(\"species\").mean()"
   ],
   "metadata": {
    "collapsed": false,
    "ExecuteTime": {
     "end_time": "2024-01-24T10:28:39.337198Z",
     "start_time": "2024-01-24T10:28:39.281681Z"
    }
   },
   "id": "183278b8b8266ca2",
   "execution_count": 62
  },
  {
   "cell_type": "code",
   "outputs": [
    {
     "data": {
      "text/plain": "            petal length (cm)\nspecies                      \nsetosa                  1.462\nversicolor              4.260\nvirginica               5.552",
      "text/html": "<div>\n<style scoped>\n    .dataframe tbody tr th:only-of-type {\n        vertical-align: middle;\n    }\n\n    .dataframe tbody tr th {\n        vertical-align: top;\n    }\n\n    .dataframe thead th {\n        text-align: right;\n    }\n</style>\n<table border=\"1\" class=\"dataframe\">\n  <thead>\n    <tr style=\"text-align: right;\">\n      <th></th>\n      <th>petal length (cm)</th>\n    </tr>\n    <tr>\n      <th>species</th>\n      <th></th>\n    </tr>\n  </thead>\n  <tbody>\n    <tr>\n      <th>setosa</th>\n      <td>1.462</td>\n    </tr>\n    <tr>\n      <th>versicolor</th>\n      <td>4.260</td>\n    </tr>\n    <tr>\n      <th>virginica</th>\n      <td>5.552</td>\n    </tr>\n  </tbody>\n</table>\n</div>"
     },
     "execution_count": 63,
     "metadata": {},
     "output_type": "execute_result"
    }
   ],
   "source": [
    "filtered_df = df[[\"species\", \"petal length (cm)\"]]\n",
    "groupby_df = filtered_df.groupby(\"species\")\n",
    "groupby_df.mean()"
   ],
   "metadata": {
    "collapsed": false,
    "ExecuteTime": {
     "end_time": "2024-01-24T10:28:39.396784Z",
     "start_time": "2024-01-24T10:28:39.340760Z"
    }
   },
   "id": "795484dddeb60038",
   "execution_count": 63
  },
  {
   "cell_type": "markdown",
   "source": [
    "## JOINTS"
   ],
   "metadata": {
    "collapsed": false
   },
   "id": "44dfef8fba2b19ec"
  },
  {
   "cell_type": "code",
   "outputs": [],
   "source": [
    "df_species = pd.DataFrame(\n",
    "    {\n",
    "        \"species\": iris.target_names,\n",
    "        \"country\": [\"France\", \"Germany\", \"Poland\"]\n",
    "    }\n",
    ")"
   ],
   "metadata": {
    "collapsed": false,
    "ExecuteTime": {
     "end_time": "2024-01-24T10:28:39.430641Z",
     "start_time": "2024-01-24T10:28:39.387990Z"
    }
   },
   "id": "e16a4ab75d1a52a1",
   "execution_count": 64
  },
  {
   "cell_type": "code",
   "outputs": [
    {
     "data": {
      "text/plain": "      species  country\n0      setosa   France\n1  versicolor  Germany\n2   virginica   Poland",
      "text/html": "<div>\n<style scoped>\n    .dataframe tbody tr th:only-of-type {\n        vertical-align: middle;\n    }\n\n    .dataframe tbody tr th {\n        vertical-align: top;\n    }\n\n    .dataframe thead th {\n        text-align: right;\n    }\n</style>\n<table border=\"1\" class=\"dataframe\">\n  <thead>\n    <tr style=\"text-align: right;\">\n      <th></th>\n      <th>species</th>\n      <th>country</th>\n    </tr>\n  </thead>\n  <tbody>\n    <tr>\n      <th>0</th>\n      <td>setosa</td>\n      <td>France</td>\n    </tr>\n    <tr>\n      <th>1</th>\n      <td>versicolor</td>\n      <td>Germany</td>\n    </tr>\n    <tr>\n      <th>2</th>\n      <td>virginica</td>\n      <td>Poland</td>\n    </tr>\n  </tbody>\n</table>\n</div>"
     },
     "execution_count": 65,
     "metadata": {},
     "output_type": "execute_result"
    }
   ],
   "source": [
    "df_species"
   ],
   "metadata": {
    "collapsed": false,
    "ExecuteTime": {
     "end_time": "2024-01-24T10:28:39.490283Z",
     "start_time": "2024-01-24T10:28:39.433603Z"
    }
   },
   "id": "9864286dffe75ca4",
   "execution_count": 65
  },
  {
   "cell_type": "code",
   "outputs": [
    {
     "data": {
      "text/plain": "   sepal length (cm)  sepal width (cm)  petal length (cm)  petal width (cm)  \\\n0                5.1               3.5                1.4               0.2   \n1                4.9               3.0                1.4               0.2   \n2                4.7               3.2                1.3               0.2   \n3                4.6               3.1                1.5               0.2   \n4                5.0               3.6                1.4               0.2   \n\n   target species  petal_area country  \n0       0  setosa        0.28  France  \n1       0  setosa        0.28  France  \n2       0  setosa        0.26  France  \n3       0  setosa        0.30  France  \n4       0  setosa        0.28  France  ",
      "text/html": "<div>\n<style scoped>\n    .dataframe tbody tr th:only-of-type {\n        vertical-align: middle;\n    }\n\n    .dataframe tbody tr th {\n        vertical-align: top;\n    }\n\n    .dataframe thead th {\n        text-align: right;\n    }\n</style>\n<table border=\"1\" class=\"dataframe\">\n  <thead>\n    <tr style=\"text-align: right;\">\n      <th></th>\n      <th>sepal length (cm)</th>\n      <th>sepal width (cm)</th>\n      <th>petal length (cm)</th>\n      <th>petal width (cm)</th>\n      <th>target</th>\n      <th>species</th>\n      <th>petal_area</th>\n      <th>country</th>\n    </tr>\n  </thead>\n  <tbody>\n    <tr>\n      <th>0</th>\n      <td>5.1</td>\n      <td>3.5</td>\n      <td>1.4</td>\n      <td>0.2</td>\n      <td>0</td>\n      <td>setosa</td>\n      <td>0.28</td>\n      <td>France</td>\n    </tr>\n    <tr>\n      <th>1</th>\n      <td>4.9</td>\n      <td>3.0</td>\n      <td>1.4</td>\n      <td>0.2</td>\n      <td>0</td>\n      <td>setosa</td>\n      <td>0.28</td>\n      <td>France</td>\n    </tr>\n    <tr>\n      <th>2</th>\n      <td>4.7</td>\n      <td>3.2</td>\n      <td>1.3</td>\n      <td>0.2</td>\n      <td>0</td>\n      <td>setosa</td>\n      <td>0.26</td>\n      <td>France</td>\n    </tr>\n    <tr>\n      <th>3</th>\n      <td>4.6</td>\n      <td>3.1</td>\n      <td>1.5</td>\n      <td>0.2</td>\n      <td>0</td>\n      <td>setosa</td>\n      <td>0.30</td>\n      <td>France</td>\n    </tr>\n    <tr>\n      <th>4</th>\n      <td>5.0</td>\n      <td>3.6</td>\n      <td>1.4</td>\n      <td>0.2</td>\n      <td>0</td>\n      <td>setosa</td>\n      <td>0.28</td>\n      <td>France</td>\n    </tr>\n  </tbody>\n</table>\n</div>"
     },
     "execution_count": 66,
     "metadata": {},
     "output_type": "execute_result"
    }
   ],
   "source": [
    "merged_df = pd.merge(df, df_species, on=\"species\", how=\"left\")\n",
    "merged_df.head()"
   ],
   "metadata": {
    "collapsed": false,
    "ExecuteTime": {
     "end_time": "2024-01-24T10:28:39.565286Z",
     "start_time": "2024-01-24T10:28:39.495628Z"
    }
   },
   "id": "70113d6cd6360f4c",
   "execution_count": 66
  },
  {
   "cell_type": "markdown",
   "source": [
    "If the columns to be joined don't have the same name, use the \"left_on\" and \"right_on\" parameters. Of course, you can also join on\n",
    " several columns, in which case you'll pass lists to the"
   ],
   "metadata": {
    "collapsed": false
   },
   "id": "e68590a91d539ec2"
  },
  {
   "cell_type": "markdown",
   "source": [
    "## Advanced Pandas"
   ],
   "metadata": {
    "collapsed": false
   },
   "id": "5cc3d85082479928"
  },
  {
   "cell_type": "markdown",
   "source": [
    "### Pivot table"
   ],
   "metadata": {
    "collapsed": false
   },
   "id": "37c7cf9c82cd0d5e"
  },
  {
   "cell_type": "code",
   "outputs": [
    {
     "data": {
      "text/plain": "            petal length (cm)  petal width (cm)  sepal length (cm)  \\\nspecies                                                              \nsetosa                  1.462             0.246              5.006   \nversicolor              4.260             1.326              5.936   \nvirginica               5.552             2.026              6.588   \n\n            sepal width (cm)  \nspecies                       \nsetosa                 3.428  \nversicolor             2.770  \nvirginica              2.974  ",
      "text/html": "<div>\n<style scoped>\n    .dataframe tbody tr th:only-of-type {\n        vertical-align: middle;\n    }\n\n    .dataframe tbody tr th {\n        vertical-align: top;\n    }\n\n    .dataframe thead th {\n        text-align: right;\n    }\n</style>\n<table border=\"1\" class=\"dataframe\">\n  <thead>\n    <tr style=\"text-align: right;\">\n      <th></th>\n      <th>petal length (cm)</th>\n      <th>petal width (cm)</th>\n      <th>sepal length (cm)</th>\n      <th>sepal width (cm)</th>\n    </tr>\n    <tr>\n      <th>species</th>\n      <th></th>\n      <th></th>\n      <th></th>\n      <th></th>\n    </tr>\n  </thead>\n  <tbody>\n    <tr>\n      <th>setosa</th>\n      <td>1.462</td>\n      <td>0.246</td>\n      <td>5.006</td>\n      <td>3.428</td>\n    </tr>\n    <tr>\n      <th>versicolor</th>\n      <td>4.260</td>\n      <td>1.326</td>\n      <td>5.936</td>\n      <td>2.770</td>\n    </tr>\n    <tr>\n      <th>virginica</th>\n      <td>5.552</td>\n      <td>2.026</td>\n      <td>6.588</td>\n      <td>2.974</td>\n    </tr>\n  </tbody>\n</table>\n</div>"
     },
     "execution_count": 67,
     "metadata": {},
     "output_type": "execute_result"
    }
   ],
   "source": [
    "pd.pivot_table(df, index=\"species\", values=[\n",
    "    'sepal length (cm)', \n",
    "    'sepal width (cm)',\n",
    "    'petal length (cm)',\n",
    "    'petal width (cm)'\n",
    "], aggfunc=\"mean\")"
   ],
   "metadata": {
    "collapsed": false,
    "ExecuteTime": {
     "end_time": "2024-01-24T10:28:39.606999Z",
     "start_time": "2024-01-24T10:28:39.557347Z"
    }
   },
   "id": "be17e4a9331d5846",
   "execution_count": 67
  },
  {
   "cell_type": "markdown",
   "source": [
    "### Melt table"
   ],
   "metadata": {
    "collapsed": false
   },
   "id": "24bb39fda6a0d264"
  },
  {
   "cell_type": "code",
   "outputs": [
    {
     "data": {
      "text/plain": "   index  sepal length (cm)  sepal width (cm)  petal length (cm)  \\\n0     79                5.7               2.6                3.5   \n1    102                7.1               3.0                5.9   \n\n   petal width (cm)  target     species  petal_area  \n0               1.0       1  versicolor        3.50  \n1               2.1       2   virginica       12.39  ",
      "text/html": "<div>\n<style scoped>\n    .dataframe tbody tr th:only-of-type {\n        vertical-align: middle;\n    }\n\n    .dataframe tbody tr th {\n        vertical-align: top;\n    }\n\n    .dataframe thead th {\n        text-align: right;\n    }\n</style>\n<table border=\"1\" class=\"dataframe\">\n  <thead>\n    <tr style=\"text-align: right;\">\n      <th></th>\n      <th>index</th>\n      <th>sepal length (cm)</th>\n      <th>sepal width (cm)</th>\n      <th>petal length (cm)</th>\n      <th>petal width (cm)</th>\n      <th>target</th>\n      <th>species</th>\n      <th>petal_area</th>\n    </tr>\n  </thead>\n  <tbody>\n    <tr>\n      <th>0</th>\n      <td>79</td>\n      <td>5.7</td>\n      <td>2.6</td>\n      <td>3.5</td>\n      <td>1.0</td>\n      <td>1</td>\n      <td>versicolor</td>\n      <td>3.50</td>\n    </tr>\n    <tr>\n      <th>1</th>\n      <td>102</td>\n      <td>7.1</td>\n      <td>3.0</td>\n      <td>5.9</td>\n      <td>2.1</td>\n      <td>2</td>\n      <td>virginica</td>\n      <td>12.39</td>\n    </tr>\n  </tbody>\n</table>\n</div>"
     },
     "execution_count": 68,
     "metadata": {},
     "output_type": "execute_result"
    }
   ],
   "source": [
    "df_first_two_row = df.sample(2).reset_index()\n",
    "df_first_two_row"
   ],
   "metadata": {
    "collapsed": false,
    "ExecuteTime": {
     "end_time": "2024-01-24T10:28:39.630747Z",
     "start_time": "2024-01-24T10:28:39.599187Z"
    }
   },
   "id": "eb7619752a3a1559",
   "execution_count": 68
  },
  {
   "cell_type": "code",
   "outputs": [
    {
     "data": {
      "text/plain": "   index           variable       value\n0     79  petal length (cm)         3.5\n1    102  petal length (cm)         5.9\n2     79   petal width (cm)         1.0\n3    102   petal width (cm)         2.1\n4     79            species  versicolor\n5    102            species   virginica",
      "text/html": "<div>\n<style scoped>\n    .dataframe tbody tr th:only-of-type {\n        vertical-align: middle;\n    }\n\n    .dataframe tbody tr th {\n        vertical-align: top;\n    }\n\n    .dataframe thead th {\n        text-align: right;\n    }\n</style>\n<table border=\"1\" class=\"dataframe\">\n  <thead>\n    <tr style=\"text-align: right;\">\n      <th></th>\n      <th>index</th>\n      <th>variable</th>\n      <th>value</th>\n    </tr>\n  </thead>\n  <tbody>\n    <tr>\n      <th>0</th>\n      <td>79</td>\n      <td>petal length (cm)</td>\n      <td>3.5</td>\n    </tr>\n    <tr>\n      <th>1</th>\n      <td>102</td>\n      <td>petal length (cm)</td>\n      <td>5.9</td>\n    </tr>\n    <tr>\n      <th>2</th>\n      <td>79</td>\n      <td>petal width (cm)</td>\n      <td>1.0</td>\n    </tr>\n    <tr>\n      <th>3</th>\n      <td>102</td>\n      <td>petal width (cm)</td>\n      <td>2.1</td>\n    </tr>\n    <tr>\n      <th>4</th>\n      <td>79</td>\n      <td>species</td>\n      <td>versicolor</td>\n    </tr>\n    <tr>\n      <th>5</th>\n      <td>102</td>\n      <td>species</td>\n      <td>virginica</td>\n    </tr>\n  </tbody>\n</table>\n</div>"
     },
     "execution_count": 69,
     "metadata": {},
     "output_type": "execute_result"
    }
   ],
   "source": [
    "pd.melt(df_first_two_row, id_vars=[\"index\"], value_vars=[\n",
    "    'petal length (cm)', \n",
    "    'petal width (cm)',\n",
    "    'species'\n",
    "])"
   ],
   "metadata": {
    "collapsed": false,
    "ExecuteTime": {
     "end_time": "2024-01-24T10:28:39.700444Z",
     "start_time": "2024-01-24T10:28:39.634898Z"
    }
   },
   "id": "eb3dd1d255741ad7",
   "execution_count": 69
  },
  {
   "cell_type": "markdown",
   "source": [
    "### Text processing"
   ],
   "metadata": {
    "collapsed": false
   },
   "id": "d8e498e33ee6e027"
  },
  {
   "cell_type": "code",
   "outputs": [
    {
     "name": "stdout",
     "output_type": "stream",
     "text": [
      "['petal', 'length', '(cm)']\n",
      "['petal', 'length']\n",
      "petal_length\n",
      "petal_length\n"
     ]
    }
   ],
   "source": [
    "my_string = \"petal length (cm)\"\n",
    "my_splitted_string = my_string.split(\" \")\n",
    "print(my_splitted_string)\n",
    "####\n",
    "\n",
    "my_first_two_element = my_splitted_string[:2]\n",
    "print(my_first_two_element)\n",
    "####\n",
    "\n",
    "my_processed_string = \"_\".join(my_first_two_element)\n",
    "print(my_processed_string)\n",
    "####\n",
    "\n",
    "my_processed_string_in_one_line = \"_\".join(my_string.split(\" \")[:2])\n",
    "print(my_processed_string_in_one_line)"
   ],
   "metadata": {
    "collapsed": false,
    "ExecuteTime": {
     "end_time": "2024-01-24T10:28:39.742219Z",
     "start_time": "2024-01-24T10:28:39.681819Z"
    }
   },
   "id": "24724c1c753b4138",
   "execution_count": 70
  },
  {
   "cell_type": "code",
   "outputs": [
    {
     "data": {
      "text/plain": "   index      variable       value\n0     79  petal_length         3.5\n1    102  petal_length         5.9\n2     79   petal_width         1.0\n3    102   petal_width         2.1\n4     79       species  versicolor\n5    102       species   virginica",
      "text/html": "<div>\n<style scoped>\n    .dataframe tbody tr th:only-of-type {\n        vertical-align: middle;\n    }\n\n    .dataframe tbody tr th {\n        vertical-align: top;\n    }\n\n    .dataframe thead th {\n        text-align: right;\n    }\n</style>\n<table border=\"1\" class=\"dataframe\">\n  <thead>\n    <tr style=\"text-align: right;\">\n      <th></th>\n      <th>index</th>\n      <th>variable</th>\n      <th>value</th>\n    </tr>\n  </thead>\n  <tbody>\n    <tr>\n      <th>0</th>\n      <td>79</td>\n      <td>petal_length</td>\n      <td>3.5</td>\n    </tr>\n    <tr>\n      <th>1</th>\n      <td>102</td>\n      <td>petal_length</td>\n      <td>5.9</td>\n    </tr>\n    <tr>\n      <th>2</th>\n      <td>79</td>\n      <td>petal_width</td>\n      <td>1.0</td>\n    </tr>\n    <tr>\n      <th>3</th>\n      <td>102</td>\n      <td>petal_width</td>\n      <td>2.1</td>\n    </tr>\n    <tr>\n      <th>4</th>\n      <td>79</td>\n      <td>species</td>\n      <td>versicolor</td>\n    </tr>\n    <tr>\n      <th>5</th>\n      <td>102</td>\n      <td>species</td>\n      <td>virginica</td>\n    </tr>\n  </tbody>\n</table>\n</div>"
     },
     "execution_count": 71,
     "metadata": {},
     "output_type": "execute_result"
    }
   ],
   "source": [
    "melted_df = pd.melt(df_first_two_row, id_vars=[\"index\"], value_vars=[\n",
    "    'petal length (cm)',\n",
    "    'petal width (cm)',\n",
    "    'species'\n",
    "])\n",
    "melted_df[\"variable\"] = melted_df[\"variable\"].str.split(\" \").str[:2].str.join(\"_\")\n",
    "melted_df"
   ],
   "metadata": {
    "collapsed": false,
    "ExecuteTime": {
     "end_time": "2024-01-24T10:28:39.848196Z",
     "start_time": "2024-01-24T10:28:39.739794Z"
    }
   },
   "id": "7ff8d8954dbc5362",
   "execution_count": 71
  },
  {
   "cell_type": "markdown",
   "source": [
    "## Summary"
   ],
   "metadata": {
    "collapsed": false
   },
   "id": "b3d288e3f9784e77"
  },
  {
   "cell_type": "markdown",
   "source": [
    "- The dataframe is the flagship object of the pandas package\n",
    "- A dataframe represents tabular data\n",
    "- A dataframe is made up of rows, columns and an index\n",
    "- A CSV can be read and stored in a pandas dataframe, using the \"read_csv\" function. It is also possible to export a dataframe to a csv file using a dataframe's \"to_csv\" method.\n",
    "- It is possible to filter a dataframe:\n",
    "    - by rows: this is called a restriction \n",
    "    - by column: this is called projection \n",
    "- Dataframe unions can be created using the \"concat()\" function in pandas. These unions can be in rows or columns.\n",
    "- A new pandas dataframe column can be created by specifying the dataframe with the name of the column to be created and assigning the desired value.\n",
    "- Aggregation is possible via the \"groupby()\" method.\n",
    "- An aggregation requires:\n",
    "    - A partition key\n",
    "    - An aggregation function\n",
    "- Joins can be made between different dataframes, using the \"merge()\" function."
   ],
   "metadata": {
    "collapsed": false
   },
   "id": "7b2eb54727444ceb"
  },
  {
   "cell_type": "markdown",
   "source": [
    "- It is possible to perform an Excel-style pivot using the \"pivot_table()\" method.\n",
    "- The \"melt()\" method transforms each cell of a dataframe into two columns: the corresponding column and the individual's value for that column.\n",
    "- It is possible to perform a huge amount of processing on text columns by applying .str to a Series pandas.\n",
    "- There are two main types of variable:\n",
    "    - Quantitative variables: representing numerical values\n",
    "    - Qualitative variables: representing modalities\n",
    "- Quantitative variables can be :\n",
    "    - continuous: taking real values\n",
    "    - discrete: taking integer values\n",
    "- Qualitative variables can be :\n",
    "    - Ordinal: can be ordered\n",
    "    - Nominal: not able to be ordered\n",
    "- A descriptive statistic is a numerical quantity calculated for descriptive purposes.\n",
    "- A descriptive statistic is said to be univariate if the statistic is calculated on a single variable, bivariate if calculated on two.\n",
    "- A missing value is a variable value that is not provided for a given individual.\n",
    "- It is important to try to understand the cause of a missing value.\n",
    "- There are several ways of dealing with a missing value, such as removing the individual from the analysis or imputing the value.\n",
    "- Outliers are individuals who are particularly different from other individuals in the value of one or more of their variables.\n",
    "- There are many methods for detecting outliers (statistical rules, business rules, modelling, etc.).\n",
    "- To manage an outlier, it is possible to delete the individual or dedicate a separate analysis to these individuals."
   ],
   "metadata": {
    "collapsed": false
   },
   "id": "5ab34ae62f0614c"
  }
 ],
 "metadata": {
  "kernelspec": {
   "display_name": "Python 3",
   "language": "python",
   "name": "python3"
  },
  "language_info": {
   "codemirror_mode": {
    "name": "ipython",
    "version": 2
   },
   "file_extension": ".py",
   "mimetype": "text/x-python",
   "name": "python",
   "nbconvert_exporter": "python",
   "pygments_lexer": "ipython2",
   "version": "2.7.6"
  }
 },
 "nbformat": 4,
 "nbformat_minor": 5
}
